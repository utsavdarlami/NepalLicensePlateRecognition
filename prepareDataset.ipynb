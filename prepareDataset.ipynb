{
 "cells": [
  {
   "cell_type": "markdown",
   "metadata": {
    "colab_type": "text",
    "id": "view-in-github"
   },
   "source": [
    "<a href=\"https://colab.research.google.com/github/utsavdarlami/NepalLicensePlateRecognition/blob/master/prepareDataset.ipynb\" target=\"_parent\"><img src=\"https://colab.research.google.com/assets/colab-badge.svg\" alt=\"Open In Colab\"/></a>"
   ]
  },
  {
   "cell_type": "markdown",
   "metadata": {
    "colab_type": "text",
    "id": "6XvxbA45r8Pm"
   },
   "source": [
    "# Preparing Dataset"
   ]
  },
  {
   "cell_type": "code",
   "execution_count": 5,
   "metadata": {
    "colab": {
     "base_uri": "https://localhost:8080/",
     "height": 376
    },
    "colab_type": "code",
    "id": "0rcFNkGAr8Pt",
    "outputId": "6e3f7d15-3286-435b-eafa-14eabcd4e1a4"
   },
   "outputs": [
    {
     "data": {
      "text/plain": [
       "['0',\n",
       " '6',\n",
       " '4',\n",
       " '5',\n",
       " 'Ko',\n",
       " 'Ka',\n",
       " 'pa',\n",
       " '8',\n",
       " 'Kha',\n",
       " 'Cha',\n",
       " '7',\n",
       " 'Ba',\n",
       " 'Se',\n",
       " '2',\n",
       " '9',\n",
       " 'PA',\n",
       " 'ba',\n",
       " 'BA',\n",
       " 'Pradesh',\n",
       " 'Pa',\n",
       " '3',\n",
       " '1']"
      ]
     },
     "execution_count": 5,
     "metadata": {},
     "output_type": "execute_result"
    }
   ],
   "source": [
    "import numpy as np\n",
    "import cv2\n",
    "import time\n",
    "import os\n",
    "import matplotlib.pyplot as plt\n",
    "\n",
    "import pickle\n",
    "dataset ='Dataset/thresholdImages/'\n",
    "os.listdir(dataset)"
   ]
  },
  {
   "cell_type": "code",
   "execution_count": 6,
   "metadata": {
    "colab": {
     "base_uri": "https://localhost:8080/",
     "height": 52
    },
    "colab_type": "code",
    "id": "dcrZdRkdr8QA",
    "outputId": "2fe00122-59c8-4253-f8fd-27fff8152fa1"
   },
   "outputs": [
    {
     "data": {
      "text/plain": [
       "array(['0', '6', '4', '5', 'Ko', 'Ka', 'pa', '8', 'Kha', 'Cha', '7', 'Ba',\n",
       "       'Se', '2', '9', 'PA', 'ba', 'BA', 'Pa', '3', '1'], dtype='<U3')"
      ]
     },
     "execution_count": 6,
     "metadata": {},
     "output_type": "execute_result"
    }
   ],
   "source": [
    "labels = list(filter(lambda x : x!='Pradesh',os.listdir(dataset)))\n",
    "labels = np.array(labels)\n",
    "labels # our labels for training"
   ]
  },
  {
   "cell_type": "code",
   "execution_count": 7,
   "metadata": {
    "colab": {
     "base_uri": "https://localhost:8080/",
     "height": 34
    },
    "colab_type": "code",
    "id": "f_4RUHd2r8QL",
    "outputId": "cd826570-cdc8-4fa3-f924-737680382b51"
   },
   "outputs": [
    {
     "data": {
      "text/plain": [
       "4096"
      ]
     },
     "execution_count": 7,
     "metadata": {},
     "output_type": "execute_result"
    }
   ],
   "source": [
    "64*64"
   ]
  },
  {
   "cell_type": "code",
   "execution_count": 8,
   "metadata": {
    "colab": {},
    "colab_type": "code",
    "id": "JeAM1QzAr8QU"
   },
   "outputs": [],
   "source": [
    "imageX_Axis = [] # creating X label \n",
    "imageY_Axis = [] # creating Y label\n",
    "image_Path  = [] # All images Path\n",
    "image_width= 32\n",
    "image_height=32\n",
    "\n",
    "dim = (image_width,image_height)\n",
    "for label in labels:\n",
    "    \n",
    "    #path of the image folder\n",
    "    labelPath = dataset + label\n",
    "#     print(labelPath)\n",
    "    #making a list of all images in the image folder\n",
    "    image_Of_label = os.listdir(labelPath)\n",
    "    \n",
    "#     i=0\n",
    "    for singleImage in image_Of_label:\n",
    "        # single image path \n",
    "        imgPath = labelPath +'/'+singleImage\n",
    "#         print(imgPath)\n",
    "        image_ = cv2.imread(imgPath)  # reading a single Image\n",
    "#         resizing image to 32*32 \n",
    "        resize_image = cv2.resize(image_,dim,interpolation= cv2.INTER_CUBIC)  \n",
    "#         print(resize_image.shape)\n",
    "        imgArr = np.array(resize_image)       #converting it to numpyarray\n",
    "        imgArr = imgArr[:,:,0] #changing to 2 dimension (32,32)\n",
    "        \n",
    "        imgArr = imgArr.ravel() # flatten the numpy array 32*32 = 1024 pixels\n",
    "#         print(len(imgArr))\n",
    "        # adding it to a numpy array withits Label\n",
    "        imageX_Axis.append(imgArr)\n",
    "        image_Path.append(imgPath)\n",
    "        imageY_Axis.append(label)\n",
    "        \n",
    "#         if i==1:\n",
    "#             break\n",
    "#         i+=1\n",
    "imageX_Axis= np.array(imageX_Axis)\n",
    "imageY_Axis= np.array(imageY_Axis)\n",
    "image_Path= np.array(image_Path)\n",
    "\n",
    "\n"
   ]
  },
  {
   "cell_type": "code",
   "execution_count": 9,
   "metadata": {
    "colab": {
     "base_uri": "https://localhost:8080/",
     "height": 69
    },
    "colab_type": "code",
    "id": "e-WHD4PZr8Qd",
    "outputId": "1ae3033b-9ea8-4418-e6b8-8c193806b871"
   },
   "outputs": [
    {
     "name": "stdout",
     "output_type": "stream",
     "text": [
      "X-axis Length : 2431\n",
      "Y-axis Length : 2431\n",
      "Total Images With Path Length : 2431\n"
     ]
    }
   ],
   "source": [
    "print(f\"X-axis Length : {len(imageX_Axis)}\")\n",
    "print(f\"Y-axis Length : {len(imageY_Axis)}\")\n",
    "print(f\"Total Images With Path Length : {len(image_Path)}\")\n"
   ]
  },
  {
   "cell_type": "code",
   "execution_count": 10,
   "metadata": {
    "colab": {
     "base_uri": "https://localhost:8080/",
     "height": 34
    },
    "colab_type": "code",
    "id": "aouAP51er8Qn",
    "outputId": "49674681-2ef8-4244-cc4e-3551fb50c0f0"
   },
   "outputs": [
    {
     "data": {
      "text/plain": [
       "45"
      ]
     },
     "execution_count": 10,
     "metadata": {},
     "output_type": "execute_result"
    }
   ],
   "source": [
    "Pa = filter(lambda x:x == \"Pa\",imageY_Axis)\n",
    "len(list(Pa))"
   ]
  },
  {
   "cell_type": "code",
   "execution_count": 11,
   "metadata": {
    "colab": {
     "base_uri": "https://localhost:8080/",
     "height": 34
    },
    "colab_type": "code",
    "id": "nIQmSO1tr8Qu",
    "outputId": "621532a7-ddf8-4a04-e751-7121a032fdf8"
   },
   "outputs": [
    {
     "data": {
      "text/plain": [
       "133"
      ]
     },
     "execution_count": 11,
     "metadata": {},
     "output_type": "execute_result"
    }
   ],
   "source": [
    "pa = filter(lambda x:x == \"pa\",imageY_Axis)\n",
    "len(list(pa))"
   ]
  },
  {
   "cell_type": "markdown",
   "metadata": {
    "colab_type": "text",
    "id": "7tTnUwzLr8Q2"
   },
   "source": [
    "#### Fixing the Labels with same name but different case\n",
    "- PA == Pa or pA or pa\n",
    "- BA == ba or Ba or bA"
   ]
  },
  {
   "cell_type": "code",
   "execution_count": 12,
   "metadata": {
    "colab": {},
    "colab_type": "code",
    "id": "lSq8bIHkr8Q4"
   },
   "outputs": [],
   "source": [
    "imageY_Axis = list(map(lambda x:x.upper() ,imageY_Axis))\n",
    "# imageY_Axis = list(map(lambda x: \"PA\" if x == \"Pa\" or x==\"pA\" or x==\"pa\" else x,imageY_Axis))"
   ]
  },
  {
   "cell_type": "code",
   "execution_count": 13,
   "metadata": {
    "colab": {
     "base_uri": "https://localhost:8080/",
     "height": 34
    },
    "colab_type": "code",
    "id": "mMrxvgojr8RA",
    "outputId": "1e69e449-e049-4641-b474-876f89a0e27c"
   },
   "outputs": [
    {
     "data": {
      "text/plain": [
       "206"
      ]
     },
     "execution_count": 13,
     "metadata": {},
     "output_type": "execute_result"
    }
   ],
   "source": [
    "Pa = filter(lambda x:x == \"PA\",imageY_Axis)\n",
    "len(list(Pa))"
   ]
  },
  {
   "cell_type": "code",
   "execution_count": 14,
   "metadata": {
    "colab": {},
    "colab_type": "code",
    "id": "cpu7_hLar8RI"
   },
   "outputs": [],
   "source": [
    "imIndex=4\n",
    "testImg = imageX_Axis[imIndex]\n",
    "testImg_Label = imageY_Axis[imIndex]\n",
    "testImg_Path = image_Path[imIndex]\n",
    "\n",
    "testImg = testImg.reshape(32,32)"
   ]
  },
  {
   "cell_type": "code",
   "execution_count": 15,
   "metadata": {
    "colab": {
     "base_uri": "https://localhost:8080/",
     "height": 301
    },
    "colab_type": "code",
    "id": "EWepm0Bjr8RR",
    "outputId": "e540c69f-9510-4b6c-de04-ece5ebab42f5"
   },
   "outputs": [
    {
     "name": "stdout",
     "output_type": "stream",
     "text": [
      "True Label : 0\n",
      "True Path : Dataset/thresholdImages/0/0_11.png\n"
     ]
    },
    {
     "data": {
      "image/png": "[encoded data removed]",
      "text/plain": [
       "<Figure size 432x288 with 1 Axes>"
      ]
     },
     "metadata": {
      "needs_background": "light"
     },
     "output_type": "display_data"
    }
   ],
   "source": [
    "plt.imshow(testImg,cmap=\"gray\")\n",
    "print(f\"True Label : {testImg_Label}\")\n",
    "print(f\"True Path : {testImg_Path}\")\n"
   ]
  },
  {
   "cell_type": "code",
   "execution_count": null,
   "metadata": {
    "colab": {},
    "colab_type": "code",
    "id": "BadxERoE2mk1"
   },
   "outputs": [],
   "source": []
  },
  {
   "cell_type": "code",
   "execution_count": 16,
   "metadata": {
    "colab": {},
    "colab_type": "code",
    "id": "w7K2sz1er8RZ"
   },
   "outputs": [],
   "source": [
    "# Using numpy's savez function to store our loaded data as NPZ files\n",
    "np.savez('imageX_Axis.npz', imageX_Axis)\n",
    "np.savez('imageY_Axis.npz', imageY_Axis)\n",
    "\n",
    "np.savez('image_Path.npz', image_Path)\n",
    "\n",
    "\n",
    "def load_dataset(): # Loads the saved numpy object and returns them as tuple\n",
    "    \n",
    "    npzfile = np.load(\"imageX_Axis.npz\",allow_pickle=True)\n",
    "    x_axis = npzfile['arr_0'] # x - axis\n",
    "    \n",
    "    npzfile = np.load(\"imageY_Axis.npz\",allow_pickle=True)\n",
    "    y_axis = npzfile['arr_0'] # y - axis\n",
    "\n",
    "    npzfile = np.load(\"image_Path.npz\",allow_pickle=True)\n",
    "\n",
    "    paths = npzfile['arr_0'] # y - axis\n",
    "\n",
    "    \n",
    "    return (x_axis,y_axis,paths)"
   ]
  },
  {
   "cell_type": "code",
   "execution_count": 17,
   "metadata": {
    "colab": {
     "base_uri": "https://localhost:8080/",
     "height": 69
    },
    "colab_type": "code",
    "id": "cZuE0nQ5r8Rj",
    "outputId": "523bdb5c-16d3-498b-eac7-af1d2c973dcc"
   },
   "outputs": [
    {
     "name": "stdout",
     "output_type": "stream",
     "text": [
      "X-axis Length : 2431\n",
      "Y-axis Length : 2431\n",
      "Path Length : 2431\n"
     ]
    }
   ],
   "source": [
    "x_Axis,y_Axis,paths= load_dataset()\n",
    "print(f\"X-axis Length : {len(x_Axis)}\")\n",
    "print(f\"Y-axis Length : {len(y_Axis)}\")\n",
    "print(f\"Path Length : {len(paths)}\")"
   ]
  },
  {
   "cell_type": "code",
   "execution_count": 18,
   "metadata": {
    "colab": {
     "base_uri": "https://localhost:8080/",
     "height": 301
    },
    "colab_type": "code",
    "id": "VYgyK0D-r8Rp",
    "outputId": "5dff444b-9d0b-4425-cc82-e198f304ca1a"
   },
   "outputs": [
    {
     "name": "stdout",
     "output_type": "stream",
     "text": [
      "True Label : 0\n",
      "True Path : Dataset/thresholdImages/0/0_11.png\n"
     ]
    },
    {
     "data": {
      "image/png": "[encoded data removed]",
      "text/plain": [
       "<Figure size 432x288 with 1 Axes>"
      ]
     },
     "metadata": {
      "needs_background": "light"
     },
     "output_type": "display_data"
    }
   ],
   "source": [
    "imIndex=4\n",
    "testImg = x_Axis[imIndex]\n",
    "testImg_Label = y_Axis[imIndex]\n",
    "testImg_Path = paths[imIndex]\n",
    "\n",
    "testImg = testImg.reshape(32,32)\n",
    "plt.imshow(testImg,cmap=\"gray\")\n",
    "print(f\"True Label : {testImg_Label}\")\n",
    "print(f\"True Path : {testImg_Path}\")\n"
   ]
  },
  {
   "cell_type": "code",
   "execution_count": 19,
   "metadata": {
    "colab": {
     "base_uri": "https://localhost:8080/",
     "height": 284
    },
    "colab_type": "code",
    "id": "91K4vospskm2",
    "outputId": "aaae2e32-88fc-4e40-cb76-a658ffec98dc"
   },
   "outputs": [
    {
     "data": {
      "text/plain": [
       "(190, 136, 3)"
      ]
     },
     "execution_count": 19,
     "metadata": {},
     "output_type": "execute_result"
    },
    {
     "data": {
      "image/png": "[encoded data removed]",
      "text/plain": [
       "<Figure size 432x288 with 1 Axes>"
      ]
     },
     "metadata": {
      "needs_background": "light"
     },
     "output_type": "display_data"
    }
   ],
   "source": [
    "pathImgis = cv2.imread(testImg_Path)\n",
    "\n",
    "plt.imshow(pathImgis)\n",
    "pathImgis.shape"
   ]
  }
 ],
 "metadata": {
  "colab": {
   "collapsed_sections": [],
   "include_colab_link": true,
   "name": "prepareDataset.ipynb",
   "provenance": [],
   "toc_visible": true
  },
  "kernelspec": {
   "display_name": "Python 3",
   "language": "python",
   "name": "python3"
  },
  "language_info": {
   "codemirror_mode": {
    "name": "ipython",
    "version": 3
   },
   "file_extension": ".py",
   "mimetype": "text/x-python",
   "name": "python",
   "nbconvert_exporter": "python",
   "pygments_lexer": "ipython3",
   "version": "3.7.5"
  }
 },
 "nbformat": 4,
 "nbformat_minor": 1
}
