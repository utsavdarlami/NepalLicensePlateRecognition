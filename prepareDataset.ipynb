{
 "cells": [
  {
   "cell_type": "markdown",
   "metadata": {
    "colab_type": "text",
    "id": "6XvxbA45r8Pm"
   },
   "source": [
    "# Preparing Dataset"
   ]
  },
  {
   "cell_type": "code",
   "execution_count": 1,
   "metadata": {
    "colab": {
     "base_uri": "https://localhost:8080/",
     "height": 376
    },
    "colab_type": "code",
    "id": "0rcFNkGAr8Pt",
    "outputId": "6e3f7d15-3286-435b-eafa-14eabcd4e1a4"
   },
   "outputs": [
    {
     "data": {
      "text/plain": [
       "['0',\n",
       " '6',\n",
       " '4',\n",
       " '5',\n",
       " 'Ko',\n",
       " 'Ka',\n",
       " 'pa',\n",
       " '8',\n",
       " 'Kha',\n",
       " 'Cha',\n",
       " '7',\n",
       " 'Ba',\n",
       " 'Se',\n",
       " '2',\n",
       " '9',\n",
       " 'PA',\n",
       " 'ba',\n",
       " 'BA',\n",
       " 'Pradesh',\n",
       " 'Pa',\n",
       " '3',\n",
       " '1']"
      ]
     },
     "execution_count": 1,
     "metadata": {},
     "output_type": "execute_result"
    }
   ],
   "source": [
    "%config IPCompleter.greedy=True\n",
    "\n",
    "import numpy as np\n",
    "import cv2\n",
    "import time\n",
    "import os\n",
    "import matplotlib.pyplot as plt\n",
    "import pandas as pd\n",
    "import seaborn as sns\n",
    "import pickle\n",
    "dataset ='Dataset/thresholdImages/'\n",
    "os.listdir(dataset)"
   ]
  },
  {
   "cell_type": "code",
   "execution_count": 2,
   "metadata": {
    "colab": {
     "base_uri": "https://localhost:8080/",
     "height": 52
    },
    "colab_type": "code",
    "id": "dcrZdRkdr8QA",
    "outputId": "2fe00122-59c8-4253-f8fd-27fff8152fa1"
   },
   "outputs": [
    {
     "data": {
      "text/plain": [
       "array(['0', '6', '4', '5', 'Ko', 'Ka', 'pa', '8', 'Kha', 'Cha', '7', 'Ba',\n",
       "       'Se', '2', '9', 'PA', 'ba', 'BA', 'Pa', '3', '1'], dtype='<U3')"
      ]
     },
     "execution_count": 2,
     "metadata": {},
     "output_type": "execute_result"
    }
   ],
   "source": [
    "labels = list(filter(lambda x : x!='Pradesh',os.listdir(dataset)))\n",
    "labels = np.array(labels)\n",
    "labels # our labels for training"
   ]
  },
  {
   "cell_type": "code",
   "execution_count": 22,
   "metadata": {
    "colab": {
     "base_uri": "https://localhost:8080/",
     "height": 34
    },
    "colab_type": "code",
    "id": "f_4RUHd2r8QL",
    "outputId": "cd826570-cdc8-4fa3-f924-737680382b51"
   },
   "outputs": [
    {
     "data": {
      "text/plain": [
       "4096"
      ]
     },
     "execution_count": 22,
     "metadata": {},
     "output_type": "execute_result"
    }
   ],
   "source": [
    "64*64"
   ]
  },
  {
   "cell_type": "code",
   "execution_count": 4,
   "metadata": {
    "colab": {},
    "colab_type": "code",
    "id": "JeAM1QzAr8QU"
   },
   "outputs": [],
   "source": [
    "imageX_Axis = [] # creating X label \n",
    "imageY_Axis = [] # creating Y label\n",
    "image_Path  = [] # All images Path\n",
    "image_width= 32\n",
    "image_height=32\n",
    "\n",
    "dim = (image_width,image_height)\n",
    "for label in labels:\n",
    "    \n",
    "    #path of the image folder\n",
    "    labelPath = dataset + label\n",
    "#     print(labelPath)\n",
    "    #making a list of all images in the image folder\n",
    "    image_Of_label = os.listdir(labelPath)\n",
    "    \n",
    "#     i=0\n",
    "    for singleImage in image_Of_label:\n",
    "        # single image path \n",
    "        imgPath = labelPath +'/'+singleImage\n",
    "#         print(imgPath)\n",
    "        image_ = cv2.imread(imgPath)  # reading a single Image\n",
    "#         resizing image to 32*32 \n",
    "        resize_image = cv2.resize(image_,dim,interpolation= cv2.INTER_CUBIC)  \n",
    "#         print(resize_image.shape)\n",
    "        imgArr = np.array(resize_image)       #converting it to numpyarray\n",
    "        imgArr = imgArr[:,:,0] #changing to 2 dimension (32,32)\n",
    "        \n",
    "        imgArr = imgArr.ravel() # flatten the numpy array 32*32 = 1024 pixels\n",
    "#         print(len(imgArr))\n",
    "        # adding it to a numpy array withits Label\n",
    "        imageX_Axis.append(imgArr)\n",
    "        image_Path.append(imgPath)\n",
    "        imageY_Axis.append(label)\n",
    "        \n",
    "#         if i==1:\n",
    "#             break\n",
    "#         i+=1\n",
    "imageX_Axis= np.array(imageX_Axis)\n",
    "imageY_Axis= np.array(imageY_Axis)\n",
    "image_Path= np.array(image_Path)\n",
    "\n",
    "\n"
   ]
  },
  {
   "cell_type": "code",
   "execution_count": 5,
   "metadata": {
    "colab": {
     "base_uri": "https://localhost:8080/",
     "height": 69
    },
    "colab_type": "code",
    "id": "e-WHD4PZr8Qd",
    "outputId": "1ae3033b-9ea8-4418-e6b8-8c193806b871"
   },
   "outputs": [
    {
     "name": "stdout",
     "output_type": "stream",
     "text": [
      "X-axis Length : 3512\n",
      "Y-axis Length : 3512\n",
      "Total Images With Path Length : 3512\n"
     ]
    }
   ],
   "source": [
    "print(f\"X-axis Length : {len(imageX_Axis)}\")\n",
    "print(f\"Y-axis Length : {len(imageY_Axis)}\")\n",
    "print(f\"Total Images With Path Length : {len(image_Path)}\")\n"
   ]
  },
  {
   "cell_type": "code",
   "execution_count": 6,
   "metadata": {
    "colab": {
     "base_uri": "https://localhost:8080/",
     "height": 34
    },
    "colab_type": "code",
    "id": "aouAP51er8Qn",
    "outputId": "49674681-2ef8-4244-cc4e-3551fb50c0f0"
   },
   "outputs": [
    {
     "data": {
      "text/plain": [
       "138"
      ]
     },
     "execution_count": 6,
     "metadata": {},
     "output_type": "execute_result"
    }
   ],
   "source": [
    "Pa = filter(lambda x:x == \"Pa\",imageY_Axis)\n",
    "len(list(Pa))"
   ]
  },
  {
   "cell_type": "code",
   "execution_count": 7,
   "metadata": {
    "colab": {
     "base_uri": "https://localhost:8080/",
     "height": 34
    },
    "colab_type": "code",
    "id": "nIQmSO1tr8Qu",
    "outputId": "621532a7-ddf8-4a04-e751-7121a032fdf8"
   },
   "outputs": [
    {
     "data": {
      "text/plain": [
       "133"
      ]
     },
     "execution_count": 7,
     "metadata": {},
     "output_type": "execute_result"
    }
   ],
   "source": [
    "pa = filter(lambda x:x == \"pa\",imageY_Axis)\n",
    "len(list(pa))"
   ]
  },
  {
   "cell_type": "markdown",
   "metadata": {
    "colab_type": "text",
    "id": "7tTnUwzLr8Q2"
   },
   "source": [
    "#### Fixing the Labels with same name but different case\n",
    "- PA == Pa or pA or pa\n",
    "- BA == ba or Ba or bA"
   ]
  },
  {
   "cell_type": "code",
   "execution_count": 8,
   "metadata": {
    "colab": {},
    "colab_type": "code",
    "id": "lSq8bIHkr8Q4"
   },
   "outputs": [],
   "source": [
    "imageY_Axis = list(map(lambda x:x.upper() ,imageY_Axis))\n",
    "# imageY_Axis = list(map(lambda x: \"PA\" if x == \"Pa\" or x==\"pA\" or x==\"pa\" else x,imageY_Axis))"
   ]
  },
  {
   "cell_type": "code",
   "execution_count": 9,
   "metadata": {
    "colab": {
     "base_uri": "https://localhost:8080/",
     "height": 34
    },
    "colab_type": "code",
    "id": "mMrxvgojr8RA",
    "outputId": "1e69e449-e049-4641-b474-876f89a0e27c"
   },
   "outputs": [
    {
     "data": {
      "text/plain": [
       "355"
      ]
     },
     "execution_count": 9,
     "metadata": {},
     "output_type": "execute_result"
    }
   ],
   "source": [
    "Pa = filter(lambda x:x == \"PA\",imageY_Axis)\n",
    "len(list(Pa))"
   ]
  },
  {
   "cell_type": "code",
   "execution_count": 10,
   "metadata": {
    "colab": {},
    "colab_type": "code",
    "id": "cpu7_hLar8RI"
   },
   "outputs": [],
   "source": [
    "imIndex=4\n",
    "testImg = imageX_Axis[imIndex]\n",
    "testImg_Label = imageY_Axis[imIndex]\n",
    "testImg_Path = image_Path[imIndex]\n",
    "\n",
    "testImg = testImg.reshape(32,32)"
   ]
  },
  {
   "cell_type": "code",
   "execution_count": 11,
   "metadata": {
    "colab": {
     "base_uri": "https://localhost:8080/",
     "height": 301
    },
    "colab_type": "code",
    "id": "EWepm0Bjr8RR",
    "outputId": "e540c69f-9510-4b6c-de04-ece5ebab42f5"
   },
   "outputs": [
    {
     "name": "stdout",
     "output_type": "stream",
     "text": [
      "True Label : 0\n",
      "True Path : Dataset/thresholdImages/0/0_2.png\n"
     ]
    },
    {
     "data": {
      "image/png": "[encoded data removed]",
      "text/plain": [
       "<Figure size 432x288 with 1 Axes>"
      ]
     },
     "metadata": {
      "needs_background": "light"
     },
     "output_type": "display_data"
    }
   ],
   "source": [
    "plt.imshow(testImg,cmap=\"gray\")\n",
    "print(f\"True Label : {testImg_Label}\")\n",
    "print(f\"True Path : {testImg_Path}\")\n"
   ]
  },
  {
   "cell_type": "code",
   "execution_count": null,
   "metadata": {
    "colab": {},
    "colab_type": "code",
    "id": "BadxERoE2mk1"
   },
   "outputs": [],
   "source": []
  },
  {
   "cell_type": "code",
   "execution_count": 12,
   "metadata": {
    "colab": {},
    "colab_type": "code",
    "id": "w7K2sz1er8RZ"
   },
   "outputs": [],
   "source": [
    "# Using numpy's savez function to store our loaded data as NPZ files\n",
    "np.savez('imageX_Axis.npz', imageX_Axis)\n",
    "np.savez('imageY_Axis.npz', imageY_Axis)\n",
    "\n",
    "np.savez('image_Path.npz', image_Path)\n",
    "\n",
    "\n",
    "def load_dataset(): # Loads the saved numpy object and returns them as tuple\n",
    "    \n",
    "    npzfile = np.load(\"imageX_Axis.npz\",allow_pickle=True)\n",
    "    x_axis = npzfile['arr_0'] # x - axis\n",
    "    \n",
    "    npzfile = np.load(\"imageY_Axis.npz\",allow_pickle=True)\n",
    "    y_axis = npzfile['arr_0'] # y - axis\n",
    "\n",
    "    npzfile = np.load(\"image_Path.npz\",allow_pickle=True)\n",
    "\n",
    "    paths = npzfile['arr_0'] # y - axis\n",
    "\n",
    "    \n",
    "    return (x_axis,y_axis,paths)"
   ]
  },
  {
   "cell_type": "code",
   "execution_count": 13,
   "metadata": {
    "colab": {
     "base_uri": "https://localhost:8080/",
     "height": 69
    },
    "colab_type": "code",
    "id": "cZuE0nQ5r8Rj",
    "outputId": "523bdb5c-16d3-498b-eac7-af1d2c973dcc"
   },
   "outputs": [
    {
     "name": "stdout",
     "output_type": "stream",
     "text": [
      "X-axis Length : 3512\n",
      "Y-axis Length : 3512\n",
      "Path Length : 3512\n"
     ]
    }
   ],
   "source": [
    "x_Axis,y_Axis,paths= load_dataset()\n",
    "print(f\"X-axis Length : {len(x_Axis)}\")\n",
    "print(f\"Y-axis Length : {len(y_Axis)}\")\n",
    "print(f\"Path Length : {len(paths)}\")"
   ]
  },
  {
   "cell_type": "code",
   "execution_count": 14,
   "metadata": {
    "colab": {
     "base_uri": "https://localhost:8080/",
     "height": 301
    },
    "colab_type": "code",
    "id": "VYgyK0D-r8Rp",
    "outputId": "5dff444b-9d0b-4425-cc82-e198f304ca1a"
   },
   "outputs": [
    {
     "name": "stdout",
     "output_type": "stream",
     "text": [
      "True Label : 0\n",
      "True Path : Dataset/thresholdImages/0/0_2.png\n"
     ]
    },
    {
     "data": {
      "image/png": "[encoded data removed]",
      "text/plain": [
       "<Figure size 432x288 with 1 Axes>"
      ]
     },
     "metadata": {
      "needs_background": "light"
     },
     "output_type": "display_data"
    }
   ],
   "source": [
    "imIndex=4\n",
    "testImg = x_Axis[imIndex]\n",
    "testImg_Label = y_Axis[imIndex]\n",
    "testImg_Path = paths[imIndex]\n",
    "\n",
    "testImg = testImg.reshape(32,32)\n",
    "plt.imshow(testImg,cmap=\"gray\")\n",
    "print(f\"True Label : {testImg_Label}\")\n",
    "print(f\"True Path : {testImg_Path}\")\n"
   ]
  },
  {
   "cell_type": "code",
   "execution_count": 34,
   "metadata": {
    "colab": {
     "base_uri": "https://localhost:8080/",
     "height": 284
    },
    "colab_type": "code",
    "id": "91K4vospskm2",
    "outputId": "aaae2e32-88fc-4e40-cb76-a658ffec98dc"
   },
   "outputs": [
    {
     "data": {
      "text/plain": [
       "(120, 99, 3)"
      ]
     },
     "execution_count": 34,
     "metadata": {},
     "output_type": "execute_result"
    },
    {
     "data": {
      "image/png": "[encoded data removed]",
      "text/plain": [
       "<Figure size 432x288 with 1 Axes>"
      ]
     },
     "metadata": {
      "needs_background": "light"
     },
     "output_type": "display_data"
    }
   ],
   "source": [
    "pathImgis = cv2.imread(testImg_Path)\n",
    "\n",
    "plt.imshow(pathImgis)\n",
    "pathImgis.shape"
   ]
  },
  {
   "cell_type": "code",
   "execution_count": 15,
   "metadata": {},
   "outputs": [
    {
     "name": "stdout",
     "output_type": "stream",
     "text": [
      "X-axis Length : 3512\n",
      "Y-axis Length : 3512\n",
      "Total Images  Path Length : 3512\n"
     ]
    }
   ],
   "source": [
    "imageX_Axis,imageY_Axis,image_Path= load_dataset()\n",
    "print(f\"X-axis Length : {len(imageX_Axis)}\")\n",
    "print(f\"Y-axis Length : {len(imageY_Axis)}\")\n",
    "print(f\"Total Images  Path Length : {len(image_Path)}\")\n"
   ]
  },
  {
   "cell_type": "code",
   "execution_count": 16,
   "metadata": {},
   "outputs": [
    {
     "data": {
      "text/html": [
       "<div>\n",
       "<style scoped>\n",
       "    .dataframe tbody tr th:only-of-type {\n",
       "        vertical-align: middle;\n",
       "    }\n",
       "\n",
       "    .dataframe tbody tr th {\n",
       "        vertical-align: top;\n",
       "    }\n",
       "\n",
       "    .dataframe thead th {\n",
       "        text-align: right;\n",
       "    }\n",
       "</style>\n",
       "<table border=\"1\" class=\"dataframe\">\n",
       "  <thead>\n",
       "    <tr style=\"text-align: right;\">\n",
       "      <th></th>\n",
       "      <th>0</th>\n",
       "      <th>1</th>\n",
       "      <th>2</th>\n",
       "      <th>3</th>\n",
       "      <th>4</th>\n",
       "      <th>5</th>\n",
       "      <th>6</th>\n",
       "      <th>7</th>\n",
       "      <th>8</th>\n",
       "      <th>9</th>\n",
       "      <th>...</th>\n",
       "      <th>1014</th>\n",
       "      <th>1015</th>\n",
       "      <th>1016</th>\n",
       "      <th>1017</th>\n",
       "      <th>1018</th>\n",
       "      <th>1019</th>\n",
       "      <th>1020</th>\n",
       "      <th>1021</th>\n",
       "      <th>1022</th>\n",
       "      <th>1023</th>\n",
       "    </tr>\n",
       "  </thead>\n",
       "  <tbody>\n",
       "    <tr>\n",
       "      <th>0</th>\n",
       "      <td>0</td>\n",
       "      <td>0</td>\n",
       "      <td>0</td>\n",
       "      <td>0</td>\n",
       "      <td>0</td>\n",
       "      <td>0</td>\n",
       "      <td>0</td>\n",
       "      <td>0</td>\n",
       "      <td>0</td>\n",
       "      <td>0</td>\n",
       "      <td>...</td>\n",
       "      <td>0</td>\n",
       "      <td>0</td>\n",
       "      <td>0</td>\n",
       "      <td>0</td>\n",
       "      <td>0</td>\n",
       "      <td>0</td>\n",
       "      <td>0</td>\n",
       "      <td>0</td>\n",
       "      <td>0</td>\n",
       "      <td>0</td>\n",
       "    </tr>\n",
       "    <tr>\n",
       "      <th>0</th>\n",
       "      <td>0</td>\n",
       "      <td>0</td>\n",
       "      <td>0</td>\n",
       "      <td>0</td>\n",
       "      <td>0</td>\n",
       "      <td>0</td>\n",
       "      <td>0</td>\n",
       "      <td>0</td>\n",
       "      <td>0</td>\n",
       "      <td>0</td>\n",
       "      <td>...</td>\n",
       "      <td>255</td>\n",
       "      <td>255</td>\n",
       "      <td>255</td>\n",
       "      <td>255</td>\n",
       "      <td>255</td>\n",
       "      <td>255</td>\n",
       "      <td>255</td>\n",
       "      <td>255</td>\n",
       "      <td>255</td>\n",
       "      <td>255</td>\n",
       "    </tr>\n",
       "    <tr>\n",
       "      <th>0</th>\n",
       "      <td>0</td>\n",
       "      <td>0</td>\n",
       "      <td>0</td>\n",
       "      <td>0</td>\n",
       "      <td>0</td>\n",
       "      <td>0</td>\n",
       "      <td>0</td>\n",
       "      <td>0</td>\n",
       "      <td>0</td>\n",
       "      <td>0</td>\n",
       "      <td>...</td>\n",
       "      <td>0</td>\n",
       "      <td>0</td>\n",
       "      <td>0</td>\n",
       "      <td>0</td>\n",
       "      <td>0</td>\n",
       "      <td>0</td>\n",
       "      <td>0</td>\n",
       "      <td>0</td>\n",
       "      <td>0</td>\n",
       "      <td>0</td>\n",
       "    </tr>\n",
       "  </tbody>\n",
       "</table>\n",
       "<p>3 rows × 1024 columns</p>\n",
       "</div>"
      ],
      "text/plain": [
       "   0     1     2     3     4     5     6     7     8     9     ...  1014  \\\n",
       "0     0     0     0     0     0     0     0     0     0     0  ...     0   \n",
       "0     0     0     0     0     0     0     0     0     0     0  ...   255   \n",
       "0     0     0     0     0     0     0     0     0     0     0  ...     0   \n",
       "\n",
       "   1015  1016  1017  1018  1019  1020  1021  1022  1023  \n",
       "0     0     0     0     0     0     0     0     0     0  \n",
       "0   255   255   255   255   255   255   255   255   255  \n",
       "0     0     0     0     0     0     0     0     0     0  \n",
       "\n",
       "[3 rows x 1024 columns]"
      ]
     },
     "execution_count": 16,
     "metadata": {},
     "output_type": "execute_result"
    }
   ],
   "source": [
    "datasetDf = pd.DataFrame(imageX_Axis,imageY_Axis)\n",
    "datasetDf.head(3)"
   ]
  },
  {
   "cell_type": "code",
   "execution_count": 17,
   "metadata": {},
   "outputs": [
    {
     "name": "stdout",
     "output_type": "stream",
     "text": [
      "<class 'pandas.core.frame.DataFrame'>\n",
      "Index: 3512 entries, 0 to 1\n",
      "Columns: 1024 entries, 0 to 1023\n",
      "dtypes: uint8(1024)\n",
      "memory usage: 3.5+ MB\n"
     ]
    }
   ],
   "source": [
    "datasetDf.info()"
   ]
  },
  {
   "cell_type": "code",
   "execution_count": 18,
   "metadata": {},
   "outputs": [
    {
     "data": {
      "image/png": "[encoded data removed]",
      "text/plain": [
       "<Figure size 432x288 with 1 Axes>"
      ]
     },
     "metadata": {},
     "output_type": "display_data"
    }
   ],
   "source": [
    "sns.set_style(\"whitegrid\")\n",
    "sns.countplot(x=datasetDf.index,linewidth=1,)\n",
    "plt.title('Number of Images present for a Devnagari Character')\n",
    "plt.xlabel('Number of labels / Devnagari Character')\n",
    "plt.ylabel('Count of Images')\n",
    "plt.show()"
   ]
  },
  {
   "cell_type": "code",
   "execution_count": 19,
   "metadata": {},
   "outputs": [],
   "source": [
    "datasetDf['label'] = datasetDf.index\n",
    "datasetDf['Imagepath'] = image_Path"
   ]
  },
  {
   "cell_type": "code",
   "execution_count": 20,
   "metadata": {},
   "outputs": [
    {
     "data": {
      "text/html": [
       "<div>\n",
       "<style scoped>\n",
       "    .dataframe tbody tr th:only-of-type {\n",
       "        vertical-align: middle;\n",
       "    }\n",
       "\n",
       "    .dataframe tbody tr th {\n",
       "        vertical-align: top;\n",
       "    }\n",
       "\n",
       "    .dataframe thead th {\n",
       "        text-align: right;\n",
       "    }\n",
       "</style>\n",
       "<table border=\"1\" class=\"dataframe\">\n",
       "  <thead>\n",
       "    <tr style=\"text-align: right;\">\n",
       "      <th></th>\n",
       "      <th>0</th>\n",
       "      <th>1</th>\n",
       "      <th>2</th>\n",
       "      <th>3</th>\n",
       "      <th>4</th>\n",
       "      <th>5</th>\n",
       "      <th>6</th>\n",
       "      <th>7</th>\n",
       "      <th>8</th>\n",
       "      <th>9</th>\n",
       "      <th>...</th>\n",
       "      <th>1016</th>\n",
       "      <th>1017</th>\n",
       "      <th>1018</th>\n",
       "      <th>1019</th>\n",
       "      <th>1020</th>\n",
       "      <th>1021</th>\n",
       "      <th>1022</th>\n",
       "      <th>1023</th>\n",
       "      <th>label</th>\n",
       "      <th>Imagepath</th>\n",
       "    </tr>\n",
       "  </thead>\n",
       "  <tbody>\n",
       "    <tr>\n",
       "      <th>0</th>\n",
       "      <td>0</td>\n",
       "      <td>0</td>\n",
       "      <td>0</td>\n",
       "      <td>0</td>\n",
       "      <td>0</td>\n",
       "      <td>0</td>\n",
       "      <td>0</td>\n",
       "      <td>0</td>\n",
       "      <td>0</td>\n",
       "      <td>0</td>\n",
       "      <td>...</td>\n",
       "      <td>0</td>\n",
       "      <td>0</td>\n",
       "      <td>0</td>\n",
       "      <td>0</td>\n",
       "      <td>0</td>\n",
       "      <td>0</td>\n",
       "      <td>0</td>\n",
       "      <td>0</td>\n",
       "      <td>0</td>\n",
       "      <td>Dataset/thresholdImages/0/2_39.png</td>\n",
       "    </tr>\n",
       "    <tr>\n",
       "      <th>0</th>\n",
       "      <td>0</td>\n",
       "      <td>0</td>\n",
       "      <td>0</td>\n",
       "      <td>0</td>\n",
       "      <td>0</td>\n",
       "      <td>0</td>\n",
       "      <td>0</td>\n",
       "      <td>0</td>\n",
       "      <td>0</td>\n",
       "      <td>0</td>\n",
       "      <td>...</td>\n",
       "      <td>255</td>\n",
       "      <td>255</td>\n",
       "      <td>255</td>\n",
       "      <td>255</td>\n",
       "      <td>255</td>\n",
       "      <td>255</td>\n",
       "      <td>255</td>\n",
       "      <td>255</td>\n",
       "      <td>0</td>\n",
       "      <td>Dataset/thresholdImages/0/1_52.png</td>\n",
       "    </tr>\n",
       "    <tr>\n",
       "      <th>0</th>\n",
       "      <td>0</td>\n",
       "      <td>0</td>\n",
       "      <td>0</td>\n",
       "      <td>0</td>\n",
       "      <td>0</td>\n",
       "      <td>0</td>\n",
       "      <td>0</td>\n",
       "      <td>0</td>\n",
       "      <td>0</td>\n",
       "      <td>0</td>\n",
       "      <td>...</td>\n",
       "      <td>0</td>\n",
       "      <td>0</td>\n",
       "      <td>0</td>\n",
       "      <td>0</td>\n",
       "      <td>0</td>\n",
       "      <td>0</td>\n",
       "      <td>0</td>\n",
       "      <td>0</td>\n",
       "      <td>0</td>\n",
       "      <td>Dataset/thresholdImages/0/1_44.png</td>\n",
       "    </tr>\n",
       "  </tbody>\n",
       "</table>\n",
       "<p>3 rows × 1026 columns</p>\n",
       "</div>"
      ],
      "text/plain": [
       "   0  1  2  3  4  5  6  7  8  9  ...  1016  1017  1018  1019  1020  1021  \\\n",
       "0  0  0  0  0  0  0  0  0  0  0  ...     0     0     0     0     0     0   \n",
       "0  0  0  0  0  0  0  0  0  0  0  ...   255   255   255   255   255   255   \n",
       "0  0  0  0  0  0  0  0  0  0  0  ...     0     0     0     0     0     0   \n",
       "\n",
       "   1022  1023  label                           Imagepath  \n",
       "0     0     0      0  Dataset/thresholdImages/0/2_39.png  \n",
       "0   255   255      0  Dataset/thresholdImages/0/1_52.png  \n",
       "0     0     0      0  Dataset/thresholdImages/0/1_44.png  \n",
       "\n",
       "[3 rows x 1026 columns]"
      ]
     },
     "execution_count": 20,
     "metadata": {},
     "output_type": "execute_result"
    }
   ],
   "source": [
    "datasetDf.head(3)"
   ]
  },
  {
   "cell_type": "code",
   "execution_count": 21,
   "metadata": {},
   "outputs": [
    {
     "data": {
      "image/png": "[encoded data removed]",
      "text/plain": [
       "<Figure size 720x720 with 25 Axes>"
      ]
     },
     "metadata": {},
     "output_type": "display_data"
    }
   ],
   "source": [
    "\"\"\"let's plot 25 random train set images \"\"\"\n",
    "plt.figure(figsize=(10,10))\n",
    "rand = np.random.randint(1,len(datasetDf),25) #returns a array of random no. from 1 to 1000\n",
    "# print(rand)\n",
    "for i in range(len(rand)):\n",
    "    plt.subplot(5,5,i+1)\n",
    "    plt.xticks([])\n",
    "    plt.yticks([])\n",
    "    plt.grid('off')\n",
    "    imgToShow = np.array(datasetDf.iloc[rand[i]])\n",
    "    plt.xlabel(imgToShow[-2])\n",
    "    imgToShow = imgToShow[:-2].reshape(32,32)\n",
    "    plt.imshow(np.int16(imgToShow),cmap=plt.cm.gray)\n",
    "#     plt.xlabel()\n"
   ]
  },
  {
   "cell_type": "markdown",
   "metadata": {},
   "source": [
    "### Looking At images where black pixels are representing the character\n",
    "\n",
    "\n"
   ]
  },
  {
   "cell_type": "code",
   "execution_count": 22,
   "metadata": {},
   "outputs": [
    {
     "data": {
      "text/html": [
       "<div>\n",
       "<style scoped>\n",
       "    .dataframe tbody tr th:only-of-type {\n",
       "        vertical-align: middle;\n",
       "    }\n",
       "\n",
       "    .dataframe tbody tr th {\n",
       "        vertical-align: top;\n",
       "    }\n",
       "\n",
       "    .dataframe thead th {\n",
       "        text-align: right;\n",
       "    }\n",
       "</style>\n",
       "<table border=\"1\" class=\"dataframe\">\n",
       "  <thead>\n",
       "    <tr style=\"text-align: right;\">\n",
       "      <th></th>\n",
       "      <th>0</th>\n",
       "      <th>1</th>\n",
       "      <th>2</th>\n",
       "      <th>3</th>\n",
       "      <th>4</th>\n",
       "      <th>5</th>\n",
       "      <th>6</th>\n",
       "      <th>7</th>\n",
       "      <th>8</th>\n",
       "      <th>9</th>\n",
       "      <th>...</th>\n",
       "      <th>1016</th>\n",
       "      <th>1017</th>\n",
       "      <th>1018</th>\n",
       "      <th>1019</th>\n",
       "      <th>1020</th>\n",
       "      <th>1021</th>\n",
       "      <th>1022</th>\n",
       "      <th>1023</th>\n",
       "      <th>label</th>\n",
       "      <th>Imagepath</th>\n",
       "    </tr>\n",
       "  </thead>\n",
       "  <tbody>\n",
       "    <tr>\n",
       "      <th>0</th>\n",
       "      <td>255</td>\n",
       "      <td>255</td>\n",
       "      <td>255</td>\n",
       "      <td>255</td>\n",
       "      <td>255</td>\n",
       "      <td>255</td>\n",
       "      <td>255</td>\n",
       "      <td>255</td>\n",
       "      <td>255</td>\n",
       "      <td>255</td>\n",
       "      <td>...</td>\n",
       "      <td>255</td>\n",
       "      <td>255</td>\n",
       "      <td>255</td>\n",
       "      <td>255</td>\n",
       "      <td>255</td>\n",
       "      <td>255</td>\n",
       "      <td>255</td>\n",
       "      <td>255</td>\n",
       "      <td>0</td>\n",
       "      <td>Dataset/thresholdImages/0/1_25.png</td>\n",
       "    </tr>\n",
       "    <tr>\n",
       "      <th>1</th>\n",
       "      <td>255</td>\n",
       "      <td>255</td>\n",
       "      <td>255</td>\n",
       "      <td>255</td>\n",
       "      <td>255</td>\n",
       "      <td>255</td>\n",
       "      <td>255</td>\n",
       "      <td>255</td>\n",
       "      <td>255</td>\n",
       "      <td>255</td>\n",
       "      <td>...</td>\n",
       "      <td>255</td>\n",
       "      <td>255</td>\n",
       "      <td>255</td>\n",
       "      <td>255</td>\n",
       "      <td>255</td>\n",
       "      <td>255</td>\n",
       "      <td>255</td>\n",
       "      <td>255</td>\n",
       "      <td>0</td>\n",
       "      <td>Dataset/thresholdImages/0/1_20.png</td>\n",
       "    </tr>\n",
       "    <tr>\n",
       "      <th>2</th>\n",
       "      <td>255</td>\n",
       "      <td>255</td>\n",
       "      <td>255</td>\n",
       "      <td>255</td>\n",
       "      <td>255</td>\n",
       "      <td>255</td>\n",
       "      <td>255</td>\n",
       "      <td>255</td>\n",
       "      <td>255</td>\n",
       "      <td>255</td>\n",
       "      <td>...</td>\n",
       "      <td>255</td>\n",
       "      <td>255</td>\n",
       "      <td>255</td>\n",
       "      <td>255</td>\n",
       "      <td>255</td>\n",
       "      <td>255</td>\n",
       "      <td>255</td>\n",
       "      <td>255</td>\n",
       "      <td>0</td>\n",
       "      <td>Dataset/thresholdImages/0/4_20.png</td>\n",
       "    </tr>\n",
       "    <tr>\n",
       "      <th>3</th>\n",
       "      <td>255</td>\n",
       "      <td>255</td>\n",
       "      <td>255</td>\n",
       "      <td>255</td>\n",
       "      <td>255</td>\n",
       "      <td>255</td>\n",
       "      <td>255</td>\n",
       "      <td>255</td>\n",
       "      <td>255</td>\n",
       "      <td>255</td>\n",
       "      <td>...</td>\n",
       "      <td>255</td>\n",
       "      <td>255</td>\n",
       "      <td>255</td>\n",
       "      <td>255</td>\n",
       "      <td>255</td>\n",
       "      <td>255</td>\n",
       "      <td>255</td>\n",
       "      <td>255</td>\n",
       "      <td>0</td>\n",
       "      <td>Dataset/thresholdImages/0/1_23.png</td>\n",
       "    </tr>\n",
       "    <tr>\n",
       "      <th>4</th>\n",
       "      <td>255</td>\n",
       "      <td>255</td>\n",
       "      <td>255</td>\n",
       "      <td>255</td>\n",
       "      <td>255</td>\n",
       "      <td>255</td>\n",
       "      <td>255</td>\n",
       "      <td>255</td>\n",
       "      <td>255</td>\n",
       "      <td>255</td>\n",
       "      <td>...</td>\n",
       "      <td>255</td>\n",
       "      <td>255</td>\n",
       "      <td>255</td>\n",
       "      <td>255</td>\n",
       "      <td>255</td>\n",
       "      <td>255</td>\n",
       "      <td>255</td>\n",
       "      <td>255</td>\n",
       "      <td>0</td>\n",
       "      <td>Dataset/thresholdImages/0/1_0.png</td>\n",
       "    </tr>\n",
       "  </tbody>\n",
       "</table>\n",
       "<p>5 rows × 1026 columns</p>\n",
       "</div>"
      ],
      "text/plain": [
       "     0    1    2    3    4    5    6    7    8    9  ...  1016  1017  1018  \\\n",
       "0  255  255  255  255  255  255  255  255  255  255  ...   255   255   255   \n",
       "1  255  255  255  255  255  255  255  255  255  255  ...   255   255   255   \n",
       "2  255  255  255  255  255  255  255  255  255  255  ...   255   255   255   \n",
       "3  255  255  255  255  255  255  255  255  255  255  ...   255   255   255   \n",
       "4  255  255  255  255  255  255  255  255  255  255  ...   255   255   255   \n",
       "\n",
       "   1019  1020  1021  1022  1023  label                           Imagepath  \n",
       "0   255   255   255   255   255      0  Dataset/thresholdImages/0/1_25.png  \n",
       "1   255   255   255   255   255      0  Dataset/thresholdImages/0/1_20.png  \n",
       "2   255   255   255   255   255      0  Dataset/thresholdImages/0/4_20.png  \n",
       "3   255   255   255   255   255      0  Dataset/thresholdImages/0/1_23.png  \n",
       "4   255   255   255   255   255      0   Dataset/thresholdImages/0/1_0.png  \n",
       "\n",
       "[5 rows x 1026 columns]"
      ]
     },
     "execution_count": 22,
     "metadata": {},
     "output_type": "execute_result"
    }
   ],
   "source": [
    "#this dataframe may have such images \n",
    "# checking 1st pixel of image ...if has white background it has value 255\n",
    "corner1_blackLetter = datasetDf.loc[datasetDf[0]==255]\n",
    "corner2_blackLetter = datasetDf.loc[datasetDf[31]==255]\n",
    "corner3_blackLetter = datasetDf.loc[datasetDf[992]==255]\n",
    "corner4_blackLetter = datasetDf.loc[datasetDf[1023]==255]\n",
    "corner_white_pixel1 = pd.merge(corner1_blackLetter,corner2_blackLetter,how=\"inner\")\n",
    "corner_white_pixel2 = pd.merge(corner3_blackLetter,corner4_blackLetter,how=\"inner\")\n",
    "corner_white_pixel = pd.merge(corner_white_pixel1,corner_white_pixel2,how=\"inner\")\n",
    "corner_white_pixel.head()"
   ]
  },
  {
   "cell_type": "code",
   "execution_count": 23,
   "metadata": {},
   "outputs": [
    {
     "data": {
      "image/png": "[encoded data removed]",
      "text/plain": [
       "<Figure size 720x720 with 25 Axes>"
      ]
     },
     "metadata": {},
     "output_type": "display_data"
    }
   ],
   "source": [
    "\"\"\"let's plot 25 random train set images \"\"\"\n",
    "plt.figure(figsize=(10,10))\n",
    "rand = np.random.randint(1,37,25) #returns a array of random no. from 1 to 1000\n",
    "# print(rand)\n",
    "for i in range(len(rand)):\n",
    "    plt.subplot(5,5,i+1)\n",
    "    plt.xticks([])\n",
    "    plt.yticks([])\n",
    "    plt.grid('off')\n",
    "    \n",
    "    imgToShow = np.array(corner_white_pixel.iloc[rand[i]]) # a row from the \n",
    "    plt.xlabel(imgToShow[-2])\n",
    "\n",
    "    imgToShow = imgToShow[:-2].reshape(32,32)\n",
    "    plt.imshow(np.int16(imgToShow),cmap='gray')\n",
    "#     plt.xlabel()\n"
   ]
  },
  {
   "cell_type": "code",
   "execution_count": 24,
   "metadata": {},
   "outputs": [
    {
     "name": "stdout",
     "output_type": "stream",
     "text": [
      "54\n"
     ]
    },
    {
     "data": {
      "text/html": [
       "<div>\n",
       "<style scoped>\n",
       "    .dataframe tbody tr th:only-of-type {\n",
       "        vertical-align: middle;\n",
       "    }\n",
       "\n",
       "    .dataframe tbody tr th {\n",
       "        vertical-align: top;\n",
       "    }\n",
       "\n",
       "    .dataframe thead th {\n",
       "        text-align: right;\n",
       "    }\n",
       "</style>\n",
       "<table border=\"1\" class=\"dataframe\">\n",
       "  <thead>\n",
       "    <tr style=\"text-align: right;\">\n",
       "      <th></th>\n",
       "      <th>0</th>\n",
       "      <th>1</th>\n",
       "      <th>2</th>\n",
       "      <th>3</th>\n",
       "      <th>4</th>\n",
       "      <th>5</th>\n",
       "      <th>6</th>\n",
       "      <th>7</th>\n",
       "      <th>8</th>\n",
       "      <th>9</th>\n",
       "      <th>...</th>\n",
       "      <th>1015</th>\n",
       "      <th>1016</th>\n",
       "      <th>1017</th>\n",
       "      <th>1018</th>\n",
       "      <th>1019</th>\n",
       "      <th>1020</th>\n",
       "      <th>1021</th>\n",
       "      <th>1022</th>\n",
       "      <th>1023</th>\n",
       "      <th>label</th>\n",
       "    </tr>\n",
       "    <tr>\n",
       "      <th>Imagepath</th>\n",
       "      <th></th>\n",
       "      <th></th>\n",
       "      <th></th>\n",
       "      <th></th>\n",
       "      <th></th>\n",
       "      <th></th>\n",
       "      <th></th>\n",
       "      <th></th>\n",
       "      <th></th>\n",
       "      <th></th>\n",
       "      <th></th>\n",
       "      <th></th>\n",
       "      <th></th>\n",
       "      <th></th>\n",
       "      <th></th>\n",
       "      <th></th>\n",
       "      <th></th>\n",
       "      <th></th>\n",
       "      <th></th>\n",
       "      <th></th>\n",
       "      <th></th>\n",
       "    </tr>\n",
       "  </thead>\n",
       "  <tbody>\n",
       "    <tr>\n",
       "      <th>Dataset/thresholdImages/0/1_25.png</th>\n",
       "      <td>255</td>\n",
       "      <td>255</td>\n",
       "      <td>255</td>\n",
       "      <td>255</td>\n",
       "      <td>255</td>\n",
       "      <td>255</td>\n",
       "      <td>255</td>\n",
       "      <td>255</td>\n",
       "      <td>255</td>\n",
       "      <td>255</td>\n",
       "      <td>...</td>\n",
       "      <td>255</td>\n",
       "      <td>255</td>\n",
       "      <td>255</td>\n",
       "      <td>255</td>\n",
       "      <td>255</td>\n",
       "      <td>255</td>\n",
       "      <td>255</td>\n",
       "      <td>255</td>\n",
       "      <td>255</td>\n",
       "      <td>0</td>\n",
       "    </tr>\n",
       "    <tr>\n",
       "      <th>Dataset/thresholdImages/0/1_20.png</th>\n",
       "      <td>255</td>\n",
       "      <td>255</td>\n",
       "      <td>255</td>\n",
       "      <td>255</td>\n",
       "      <td>255</td>\n",
       "      <td>255</td>\n",
       "      <td>255</td>\n",
       "      <td>255</td>\n",
       "      <td>255</td>\n",
       "      <td>255</td>\n",
       "      <td>...</td>\n",
       "      <td>255</td>\n",
       "      <td>255</td>\n",
       "      <td>255</td>\n",
       "      <td>255</td>\n",
       "      <td>255</td>\n",
       "      <td>255</td>\n",
       "      <td>255</td>\n",
       "      <td>255</td>\n",
       "      <td>255</td>\n",
       "      <td>0</td>\n",
       "    </tr>\n",
       "    <tr>\n",
       "      <th>Dataset/thresholdImages/0/4_20.png</th>\n",
       "      <td>255</td>\n",
       "      <td>255</td>\n",
       "      <td>255</td>\n",
       "      <td>255</td>\n",
       "      <td>255</td>\n",
       "      <td>255</td>\n",
       "      <td>255</td>\n",
       "      <td>255</td>\n",
       "      <td>255</td>\n",
       "      <td>255</td>\n",
       "      <td>...</td>\n",
       "      <td>255</td>\n",
       "      <td>255</td>\n",
       "      <td>255</td>\n",
       "      <td>255</td>\n",
       "      <td>255</td>\n",
       "      <td>255</td>\n",
       "      <td>255</td>\n",
       "      <td>255</td>\n",
       "      <td>255</td>\n",
       "      <td>0</td>\n",
       "    </tr>\n",
       "    <tr>\n",
       "      <th>Dataset/thresholdImages/0/1_23.png</th>\n",
       "      <td>255</td>\n",
       "      <td>255</td>\n",
       "      <td>255</td>\n",
       "      <td>255</td>\n",
       "      <td>255</td>\n",
       "      <td>255</td>\n",
       "      <td>255</td>\n",
       "      <td>255</td>\n",
       "      <td>255</td>\n",
       "      <td>255</td>\n",
       "      <td>...</td>\n",
       "      <td>255</td>\n",
       "      <td>255</td>\n",
       "      <td>255</td>\n",
       "      <td>255</td>\n",
       "      <td>255</td>\n",
       "      <td>255</td>\n",
       "      <td>255</td>\n",
       "      <td>255</td>\n",
       "      <td>255</td>\n",
       "      <td>0</td>\n",
       "    </tr>\n",
       "    <tr>\n",
       "      <th>Dataset/thresholdImages/0/1_0.png</th>\n",
       "      <td>255</td>\n",
       "      <td>255</td>\n",
       "      <td>255</td>\n",
       "      <td>255</td>\n",
       "      <td>255</td>\n",
       "      <td>255</td>\n",
       "      <td>255</td>\n",
       "      <td>255</td>\n",
       "      <td>255</td>\n",
       "      <td>255</td>\n",
       "      <td>...</td>\n",
       "      <td>255</td>\n",
       "      <td>255</td>\n",
       "      <td>255</td>\n",
       "      <td>255</td>\n",
       "      <td>255</td>\n",
       "      <td>255</td>\n",
       "      <td>255</td>\n",
       "      <td>255</td>\n",
       "      <td>255</td>\n",
       "      <td>0</td>\n",
       "    </tr>\n",
       "  </tbody>\n",
       "</table>\n",
       "<p>5 rows × 1025 columns</p>\n",
       "</div>"
      ],
      "text/plain": [
       "                                      0    1    2    3    4    5    6    7  \\\n",
       "Imagepath                                                                    \n",
       "Dataset/thresholdImages/0/1_25.png  255  255  255  255  255  255  255  255   \n",
       "Dataset/thresholdImages/0/1_20.png  255  255  255  255  255  255  255  255   \n",
       "Dataset/thresholdImages/0/4_20.png  255  255  255  255  255  255  255  255   \n",
       "Dataset/thresholdImages/0/1_23.png  255  255  255  255  255  255  255  255   \n",
       "Dataset/thresholdImages/0/1_0.png   255  255  255  255  255  255  255  255   \n",
       "\n",
       "                                      8    9  ...  1015  1016  1017  1018  \\\n",
       "Imagepath                                     ...                           \n",
       "Dataset/thresholdImages/0/1_25.png  255  255  ...   255   255   255   255   \n",
       "Dataset/thresholdImages/0/1_20.png  255  255  ...   255   255   255   255   \n",
       "Dataset/thresholdImages/0/4_20.png  255  255  ...   255   255   255   255   \n",
       "Dataset/thresholdImages/0/1_23.png  255  255  ...   255   255   255   255   \n",
       "Dataset/thresholdImages/0/1_0.png   255  255  ...   255   255   255   255   \n",
       "\n",
       "                                    1019  1020  1021  1022  1023  label  \n",
       "Imagepath                                                                \n",
       "Dataset/thresholdImages/0/1_25.png   255   255   255   255   255      0  \n",
       "Dataset/thresholdImages/0/1_20.png   255   255   255   255   255      0  \n",
       "Dataset/thresholdImages/0/4_20.png   255   255   255   255   255      0  \n",
       "Dataset/thresholdImages/0/1_23.png   255   255   255   255   255      0  \n",
       "Dataset/thresholdImages/0/1_0.png    255   255   255   255   255      0  \n",
       "\n",
       "[5 rows x 1025 columns]"
      ]
     },
     "execution_count": 24,
     "metadata": {},
     "output_type": "execute_result"
    }
   ],
   "source": [
    "print(len(corner_white_pixel))\n",
    "corner_white_pixel = corner_white_pixel.set_index(\"Imagepath\")\n",
    "corner_white_pixel.head()"
   ]
  },
  {
   "cell_type": "code",
   "execution_count": 25,
   "metadata": {},
   "outputs": [],
   "source": [
    "workingLabel = [\"0\",\"1\",\"2\",\"3\",\"4\",\"5\",\"6\",\"7\",\"8\",\"9\",\"PA\",\"BA\"]"
   ]
  },
  {
   "cell_type": "code",
   "execution_count": 26,
   "metadata": {},
   "outputs": [],
   "source": [
    "workingDataset = datasetDf.loc[datasetDf['label'].isin(workingLabel)]"
   ]
  },
  {
   "cell_type": "code",
   "execution_count": 27,
   "metadata": {},
   "outputs": [
    {
     "data": {
      "text/html": [
       "<div>\n",
       "<style scoped>\n",
       "    .dataframe tbody tr th:only-of-type {\n",
       "        vertical-align: middle;\n",
       "    }\n",
       "\n",
       "    .dataframe tbody tr th {\n",
       "        vertical-align: top;\n",
       "    }\n",
       "\n",
       "    .dataframe thead th {\n",
       "        text-align: right;\n",
       "    }\n",
       "</style>\n",
       "<table border=\"1\" class=\"dataframe\">\n",
       "  <thead>\n",
       "    <tr style=\"text-align: right;\">\n",
       "      <th></th>\n",
       "      <th>0</th>\n",
       "      <th>1</th>\n",
       "      <th>2</th>\n",
       "      <th>3</th>\n",
       "      <th>4</th>\n",
       "      <th>5</th>\n",
       "      <th>6</th>\n",
       "      <th>7</th>\n",
       "      <th>8</th>\n",
       "      <th>9</th>\n",
       "      <th>...</th>\n",
       "      <th>1015</th>\n",
       "      <th>1016</th>\n",
       "      <th>1017</th>\n",
       "      <th>1018</th>\n",
       "      <th>1019</th>\n",
       "      <th>1020</th>\n",
       "      <th>1021</th>\n",
       "      <th>1022</th>\n",
       "      <th>1023</th>\n",
       "      <th>label</th>\n",
       "    </tr>\n",
       "    <tr>\n",
       "      <th>Imagepath</th>\n",
       "      <th></th>\n",
       "      <th></th>\n",
       "      <th></th>\n",
       "      <th></th>\n",
       "      <th></th>\n",
       "      <th></th>\n",
       "      <th></th>\n",
       "      <th></th>\n",
       "      <th></th>\n",
       "      <th></th>\n",
       "      <th></th>\n",
       "      <th></th>\n",
       "      <th></th>\n",
       "      <th></th>\n",
       "      <th></th>\n",
       "      <th></th>\n",
       "      <th></th>\n",
       "      <th></th>\n",
       "      <th></th>\n",
       "      <th></th>\n",
       "      <th></th>\n",
       "    </tr>\n",
       "  </thead>\n",
       "  <tbody>\n",
       "    <tr>\n",
       "      <th>Dataset/thresholdImages/0/2_39.png</th>\n",
       "      <td>0</td>\n",
       "      <td>0</td>\n",
       "      <td>0</td>\n",
       "      <td>0</td>\n",
       "      <td>0</td>\n",
       "      <td>0</td>\n",
       "      <td>0</td>\n",
       "      <td>0</td>\n",
       "      <td>0</td>\n",
       "      <td>0</td>\n",
       "      <td>...</td>\n",
       "      <td>0</td>\n",
       "      <td>0</td>\n",
       "      <td>0</td>\n",
       "      <td>0</td>\n",
       "      <td>0</td>\n",
       "      <td>0</td>\n",
       "      <td>0</td>\n",
       "      <td>0</td>\n",
       "      <td>0</td>\n",
       "      <td>0</td>\n",
       "    </tr>\n",
       "    <tr>\n",
       "      <th>Dataset/thresholdImages/0/1_52.png</th>\n",
       "      <td>0</td>\n",
       "      <td>0</td>\n",
       "      <td>0</td>\n",
       "      <td>0</td>\n",
       "      <td>0</td>\n",
       "      <td>0</td>\n",
       "      <td>0</td>\n",
       "      <td>0</td>\n",
       "      <td>0</td>\n",
       "      <td>0</td>\n",
       "      <td>...</td>\n",
       "      <td>255</td>\n",
       "      <td>255</td>\n",
       "      <td>255</td>\n",
       "      <td>255</td>\n",
       "      <td>255</td>\n",
       "      <td>255</td>\n",
       "      <td>255</td>\n",
       "      <td>255</td>\n",
       "      <td>255</td>\n",
       "      <td>0</td>\n",
       "    </tr>\n",
       "    <tr>\n",
       "      <th>Dataset/thresholdImages/0/1_44.png</th>\n",
       "      <td>0</td>\n",
       "      <td>0</td>\n",
       "      <td>0</td>\n",
       "      <td>0</td>\n",
       "      <td>0</td>\n",
       "      <td>0</td>\n",
       "      <td>0</td>\n",
       "      <td>0</td>\n",
       "      <td>0</td>\n",
       "      <td>0</td>\n",
       "      <td>...</td>\n",
       "      <td>0</td>\n",
       "      <td>0</td>\n",
       "      <td>0</td>\n",
       "      <td>0</td>\n",
       "      <td>0</td>\n",
       "      <td>0</td>\n",
       "      <td>0</td>\n",
       "      <td>0</td>\n",
       "      <td>0</td>\n",
       "      <td>0</td>\n",
       "    </tr>\n",
       "    <tr>\n",
       "      <th>Dataset/thresholdImages/0/1_6.png</th>\n",
       "      <td>0</td>\n",
       "      <td>0</td>\n",
       "      <td>0</td>\n",
       "      <td>0</td>\n",
       "      <td>0</td>\n",
       "      <td>0</td>\n",
       "      <td>0</td>\n",
       "      <td>0</td>\n",
       "      <td>0</td>\n",
       "      <td>0</td>\n",
       "      <td>...</td>\n",
       "      <td>0</td>\n",
       "      <td>0</td>\n",
       "      <td>0</td>\n",
       "      <td>0</td>\n",
       "      <td>0</td>\n",
       "      <td>0</td>\n",
       "      <td>0</td>\n",
       "      <td>0</td>\n",
       "      <td>0</td>\n",
       "      <td>0</td>\n",
       "    </tr>\n",
       "    <tr>\n",
       "      <th>Dataset/thresholdImages/0/0_2.png</th>\n",
       "      <td>0</td>\n",
       "      <td>0</td>\n",
       "      <td>0</td>\n",
       "      <td>0</td>\n",
       "      <td>0</td>\n",
       "      <td>0</td>\n",
       "      <td>0</td>\n",
       "      <td>0</td>\n",
       "      <td>0</td>\n",
       "      <td>0</td>\n",
       "      <td>...</td>\n",
       "      <td>0</td>\n",
       "      <td>0</td>\n",
       "      <td>0</td>\n",
       "      <td>0</td>\n",
       "      <td>0</td>\n",
       "      <td>0</td>\n",
       "      <td>0</td>\n",
       "      <td>0</td>\n",
       "      <td>0</td>\n",
       "      <td>0</td>\n",
       "    </tr>\n",
       "  </tbody>\n",
       "</table>\n",
       "<p>5 rows × 1025 columns</p>\n",
       "</div>"
      ],
      "text/plain": [
       "                                    0  1  2  3  4  5  6  7  8  9  ...  1015  \\\n",
       "Imagepath                                                         ...         \n",
       "Dataset/thresholdImages/0/2_39.png  0  0  0  0  0  0  0  0  0  0  ...     0   \n",
       "Dataset/thresholdImages/0/1_52.png  0  0  0  0  0  0  0  0  0  0  ...   255   \n",
       "Dataset/thresholdImages/0/1_44.png  0  0  0  0  0  0  0  0  0  0  ...     0   \n",
       "Dataset/thresholdImages/0/1_6.png   0  0  0  0  0  0  0  0  0  0  ...     0   \n",
       "Dataset/thresholdImages/0/0_2.png   0  0  0  0  0  0  0  0  0  0  ...     0   \n",
       "\n",
       "                                    1016  1017  1018  1019  1020  1021  1022  \\\n",
       "Imagepath                                                                      \n",
       "Dataset/thresholdImages/0/2_39.png     0     0     0     0     0     0     0   \n",
       "Dataset/thresholdImages/0/1_52.png   255   255   255   255   255   255   255   \n",
       "Dataset/thresholdImages/0/1_44.png     0     0     0     0     0     0     0   \n",
       "Dataset/thresholdImages/0/1_6.png      0     0     0     0     0     0     0   \n",
       "Dataset/thresholdImages/0/0_2.png      0     0     0     0     0     0     0   \n",
       "\n",
       "                                    1023  label  \n",
       "Imagepath                                        \n",
       "Dataset/thresholdImages/0/2_39.png     0      0  \n",
       "Dataset/thresholdImages/0/1_52.png   255      0  \n",
       "Dataset/thresholdImages/0/1_44.png     0      0  \n",
       "Dataset/thresholdImages/0/1_6.png      0      0  \n",
       "Dataset/thresholdImages/0/0_2.png      0      0  \n",
       "\n",
       "[5 rows x 1025 columns]"
      ]
     },
     "execution_count": 27,
     "metadata": {},
     "output_type": "execute_result"
    }
   ],
   "source": [
    "workingDataset = workingDataset.set_index(\"Imagepath\")\n",
    "workingDataset.head()"
   ]
  },
  {
   "cell_type": "code",
   "execution_count": 28,
   "metadata": {},
   "outputs": [
    {
     "name": "stdout",
     "output_type": "stream",
     "text": [
      "3436\n"
     ]
    }
   ],
   "source": [
    "print(len(workingDataset))\n"
   ]
  },
  {
   "cell_type": "code",
   "execution_count": 29,
   "metadata": {},
   "outputs": [],
   "source": [
    "workingDataset = workingDataset.loc[~workingDataset.index.isin(corner_white_pixel.index)]"
   ]
  },
  {
   "cell_type": "code",
   "execution_count": 30,
   "metadata": {},
   "outputs": [
    {
     "data": {
      "text/plain": [
       "3382"
      ]
     },
     "execution_count": 30,
     "metadata": {},
     "output_type": "execute_result"
    }
   ],
   "source": [
    "len(workingDataset)"
   ]
  },
  {
   "cell_type": "code",
   "execution_count": 38,
   "metadata": {},
   "outputs": [
    {
     "data": {
      "text/plain": [
       "PA    352\n",
       "4     315\n",
       "3     309\n",
       "BA    302\n",
       "1     300\n",
       "2     286\n",
       "5     276\n",
       "6     266\n",
       "0     259\n",
       "8     258\n",
       "7     236\n",
       "9     223\n",
       "Name: label, dtype: int64"
      ]
     },
     "execution_count": 38,
     "metadata": {},
     "output_type": "execute_result"
    }
   ],
   "source": [
    "workingDataset['label'].value_counts()"
   ]
  },
  {
   "cell_type": "code",
   "execution_count": 39,
   "metadata": {},
   "outputs": [
    {
     "data": {
      "text/html": [
       "<div>\n",
       "<style scoped>\n",
       "    .dataframe tbody tr th:only-of-type {\n",
       "        vertical-align: middle;\n",
       "    }\n",
       "\n",
       "    .dataframe tbody tr th {\n",
       "        vertical-align: top;\n",
       "    }\n",
       "\n",
       "    .dataframe thead th {\n",
       "        text-align: right;\n",
       "    }\n",
       "</style>\n",
       "<table border=\"1\" class=\"dataframe\">\n",
       "  <thead>\n",
       "    <tr style=\"text-align: right;\">\n",
       "      <th></th>\n",
       "      <th>0</th>\n",
       "      <th>1</th>\n",
       "      <th>2</th>\n",
       "      <th>3</th>\n",
       "      <th>4</th>\n",
       "      <th>5</th>\n",
       "      <th>6</th>\n",
       "      <th>7</th>\n",
       "      <th>8</th>\n",
       "      <th>9</th>\n",
       "      <th>...</th>\n",
       "      <th>1015</th>\n",
       "      <th>1016</th>\n",
       "      <th>1017</th>\n",
       "      <th>1018</th>\n",
       "      <th>1019</th>\n",
       "      <th>1020</th>\n",
       "      <th>1021</th>\n",
       "      <th>1022</th>\n",
       "      <th>1023</th>\n",
       "      <th>label</th>\n",
       "    </tr>\n",
       "  </thead>\n",
       "  <tbody>\n",
       "  </tbody>\n",
       "</table>\n",
       "<p>0 rows × 1025 columns</p>\n",
       "</div>"
      ],
      "text/plain": [
       "Empty DataFrame\n",
       "Columns: [0, 1, 2, 3, 4, 5, 6, 7, 8, 9, 10, 11, 12, 13, 14, 15, 16, 17, 18, 19, 20, 21, 22, 23, 24, 25, 26, 27, 28, 29, 30, 31, 32, 33, 34, 35, 36, 37, 38, 39, 40, 41, 42, 43, 44, 45, 46, 47, 48, 49, 50, 51, 52, 53, 54, 55, 56, 57, 58, 59, 60, 61, 62, 63, 64, 65, 66, 67, 68, 69, 70, 71, 72, 73, 74, 75, 76, 77, 78, 79, 80, 81, 82, 83, 84, 85, 86, 87, 88, 89, 90, 91, 92, 93, 94, 95, 96, 97, 98, 99, ...]\n",
       "Index: []\n",
       "\n",
       "[0 rows x 1025 columns]"
      ]
     },
     "execution_count": 39,
     "metadata": {},
     "output_type": "execute_result"
    }
   ],
   "source": [
    "#this dataframe may have such images \n",
    "# checking 1st pixel of image ...if has white background it has value 255\n",
    "corner1_blackLetter = workingDataset.loc[workingDataset[0]==255]\n",
    "corner2_blackLetter = workingDataset.loc[workingDataset[31]==255]\n",
    "corner3_blackLetter = workingDataset.loc[workingDataset[992]==255]\n",
    "corner4_blackLetter = workingDataset.loc[workingDataset[1023]==255]\n",
    "corner_white_pixel1 = pd.merge(corner1_blackLetter,corner2_blackLetter,how=\"inner\")\n",
    "corner_white_pixel2 = pd.merge(corner3_blackLetter,corner4_blackLetter,how=\"inner\")\n",
    "corner_white_pixel = pd.merge(corner_white_pixel1,corner_white_pixel2,how=\"inner\")\n",
    "corner_white_pixel.head()"
   ]
  },
  {
   "cell_type": "code",
   "execution_count": 40,
   "metadata": {},
   "outputs": [],
   "source": [
    "workingDataset.to_csv(\"finalPathAndImage.csv\")"
   ]
  }
 ],
 "metadata": {
  "colab": {
   "collapsed_sections": [],
   "include_colab_link": true,
   "name": "prepareDataset.ipynb",
   "provenance": [],
   "toc_visible": true
  },
  "kernelspec": {
   "display_name": "Python 3",
   "language": "python",
   "name": "python3"
  },
  "language_info": {
   "codemirror_mode": {
    "name": "ipython",
    "version": 3
   },
   "file_extension": ".py",
   "mimetype": "text/x-python",
   "name": "python",
   "nbconvert_exporter": "python",
   "pygments_lexer": "ipython3",
   "version": "3.7.5"
  }
 },
 "nbformat": 4,
 "nbformat_minor": 1
}
