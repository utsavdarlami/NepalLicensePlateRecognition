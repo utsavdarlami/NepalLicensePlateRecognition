{
  "nbformat": 4,
  "nbformat_minor": 0,
  "metadata": {
    "kernelspec": {
      "display_name": "Python 3",
      "language": "python",
      "name": "python3"
    },
    "language_info": {
      "codemirror_mode": {
        "name": "ipython",
        "version": 3
      },
      "file_extension": ".py",
      "mimetype": "text/x-python",
      "name": "python",
      "nbconvert_exporter": "python",
      "pygments_lexer": "ipython3",
      "version": "3.7.5"
    },
    "colab": {
      "name": "prepareDataset.ipynb",
      "provenance": [],
      "include_colab_link": true
    }
  },
  "cells": [
    {
      "cell_type": "markdown",
      "metadata": {
        "id": "view-in-github",
        "colab_type": "text"
      },
      "source": [
        "<a href=\"https://colab.research.google.com/github/utsavdarlami/NepalLicensePlateRecognition/blob/master/prepareDataset.ipynb\" target=\"_parent\"><img src=\"https://colab.research.google.com/assets/colab-badge.svg\" alt=\"Open In Colab\"/></a>"
      ]
    },
    {
      "cell_type": "markdown",
      "metadata": {
        "id": "6XvxbA45r8Pm",
        "colab_type": "text"
      },
      "source": [
        "# Preparing Dataset"
      ]
    },
    {
      "cell_type": "code",
      "metadata": {
        "id": "0rcFNkGAr8Pt",
        "colab_type": "code",
        "colab": {},
        "outputId": "8d4cdd2b-a3c9-47ec-e069-b56e8f0ca94a"
      },
      "source": [
        "import numpy as np\n",
        "import cv2\n",
        "import time\n",
        "import os\n",
        "import matplotlib.pyplot as plt\n",
        "import pickle\n",
        "dataset ='Dataset/thresholdImages/'\n",
        "os.listdir(dataset)"
      ],
      "execution_count": 0,
      "outputs": [
        {
          "output_type": "execute_result",
          "data": {
            "text/plain": [
              "['0',\n",
              " '6',\n",
              " '4',\n",
              " '5',\n",
              " 'Ko',\n",
              " 'Ka',\n",
              " 'pa',\n",
              " '8',\n",
              " 'Kha',\n",
              " 'Cha',\n",
              " '7',\n",
              " 'Ba',\n",
              " 'Se',\n",
              " '2',\n",
              " '9',\n",
              " 'PA',\n",
              " 'ba',\n",
              " 'BA',\n",
              " 'Pradesh',\n",
              " 'Pa',\n",
              " '3',\n",
              " '1']"
            ]
          },
          "metadata": {
            "tags": []
          },
          "execution_count": 1
        }
      ]
    },
    {
      "cell_type": "code",
      "metadata": {
        "id": "dcrZdRkdr8QA",
        "colab_type": "code",
        "colab": {},
        "outputId": "92ff240d-282d-4872-8afc-17848febb325"
      },
      "source": [
        "labels = list(filter(lambda x : x!='Pradesh',os.listdir(dataset)))\n",
        "labels = np.array(labels)\n",
        "labels # our labels for training"
      ],
      "execution_count": 0,
      "outputs": [
        {
          "output_type": "execute_result",
          "data": {
            "text/plain": [
              "array(['0', '6', '4', '5', 'Ko', 'Ka', 'pa', '8', 'Kha', 'Cha', '7', 'Ba',\n",
              "       'Se', '2', '9', 'PA', 'ba', 'BA', 'Pa', '3', '1'], dtype='<U3')"
            ]
          },
          "metadata": {
            "tags": []
          },
          "execution_count": 2
        }
      ]
    },
    {
      "cell_type": "code",
      "metadata": {
        "id": "f_4RUHd2r8QL",
        "colab_type": "code",
        "colab": {},
        "outputId": "125174b4-e55d-4c3f-fb1b-8ae880b30f7d"
      },
      "source": [
        "64*64"
      ],
      "execution_count": 0,
      "outputs": [
        {
          "output_type": "execute_result",
          "data": {
            "text/plain": [
              "4096"
            ]
          },
          "metadata": {
            "tags": []
          },
          "execution_count": 3
        }
      ]
    },
    {
      "cell_type": "code",
      "metadata": {
        "id": "JeAM1QzAr8QU",
        "colab_type": "code",
        "colab": {}
      },
      "source": [
        "imageX_Axis = [] # creating X label \n",
        "imageY_Axis = [] # creating Y label\n",
        "\n",
        "image_width= 32\n",
        "image_height=32\n",
        "\n",
        "dim = (image_width,image_height)\n",
        "for label in labels:\n",
        "    \n",
        "    #path of the image folder\n",
        "    labelPath = dataset + label\n",
        "#     print(labelPath)\n",
        "    #making a list of all images in the image folder\n",
        "    image_Of_label = os.listdir(labelPath)\n",
        "    \n",
        "#     i=0\n",
        "    for singleImage in image_Of_label:\n",
        "        # single image path \n",
        "        imgPath = labelPath +'/'+singleImage\n",
        "#         print(imgPath)\n",
        "        image_ = cv2.imread(imgPath)  # reading a single Image\n",
        "#         resizing image to 32*32 \n",
        "        resize_image = cv2.resize(image_,dim,interpolation= cv2.INTER_CUBIC)  \n",
        "#         print(resize_image.shape)\n",
        "        imgArr = np.array(resize_image)       #converting it to numpyarray\n",
        "        imgArr = imgArr[:,:,0] #changing to 2 dimension (32,32)\n",
        "        \n",
        "        imgArr = imgArr.ravel() # flatten the numpy array 32*32 = 1024 pixels\n",
        "#         print(len(imgArr))\n",
        "        # adding it to a numpy array withits Label\n",
        "        imageX_Axis.append(imgArr)\n",
        "        imageX_Path.append(imgPath)\n",
        "        imageY_Axis.append(label)\n",
        "        \n",
        "#         if i==1:\n",
        "#             break\n",
        "#         i+=1\n",
        "imageX_Axis= np.array(imageX_Axis)\n",
        "imageY_Axis= np.array(imageY_Axis)\n",
        "\n",
        "\n"
      ],
      "execution_count": 0,
      "outputs": []
    },
    {
      "cell_type": "code",
      "metadata": {
        "id": "e-WHD4PZr8Qd",
        "colab_type": "code",
        "colab": {},
        "outputId": "ac4bbf2a-dd0a-4935-c5c3-301ecf642dc6"
      },
      "source": [
        "print(f\"X-axis Length : {len(imageX_Axis)}\")\n",
        "print(f\"Y-axis Length : {len(imageY_Axis)}\")"
      ],
      "execution_count": 0,
      "outputs": [
        {
          "output_type": "stream",
          "text": [
            "X-axis Length : 2431\n",
            "Y-axis Length : 2431\n"
          ],
          "name": "stdout"
        }
      ]
    },
    {
      "cell_type": "code",
      "metadata": {
        "id": "aouAP51er8Qn",
        "colab_type": "code",
        "colab": {},
        "outputId": "5ecdfae5-2367-41f4-ac22-10bb6cd33ebc"
      },
      "source": [
        "Pa = filter(lambda x:x == \"Pa\",imageY_Axis)\n",
        "len(list(Pa))"
      ],
      "execution_count": 0,
      "outputs": [
        {
          "output_type": "execute_result",
          "data": {
            "text/plain": [
              "45"
            ]
          },
          "metadata": {
            "tags": []
          },
          "execution_count": 6
        }
      ]
    },
    {
      "cell_type": "code",
      "metadata": {
        "id": "nIQmSO1tr8Qu",
        "colab_type": "code",
        "colab": {},
        "outputId": "ef3232d5-a16f-445b-8293-854b81feeeb3"
      },
      "source": [
        "pa = filter(lambda x:x == \"pa\",imageY_Axis)\n",
        "len(list(pa))"
      ],
      "execution_count": 0,
      "outputs": [
        {
          "output_type": "execute_result",
          "data": {
            "text/plain": [
              "133"
            ]
          },
          "metadata": {
            "tags": []
          },
          "execution_count": 7
        }
      ]
    },
    {
      "cell_type": "markdown",
      "metadata": {
        "id": "7tTnUwzLr8Q2",
        "colab_type": "text"
      },
      "source": [
        "#### Fixing the Labels with same name but different case\n",
        "- PA == Pa or pA or pa\n",
        "- BA == ba or Ba or bA"
      ]
    },
    {
      "cell_type": "code",
      "metadata": {
        "id": "lSq8bIHkr8Q4",
        "colab_type": "code",
        "colab": {}
      },
      "source": [
        "imageY_Axis = list(map(lambda x:x.upper() ,imageY_Axis))\n",
        "# imageY_Axis = list(map(lambda x: \"PA\" if x == \"Pa\" or x==\"pA\" or x==\"pa\" else x,imageY_Axis))"
      ],
      "execution_count": 0,
      "outputs": []
    },
    {
      "cell_type": "code",
      "metadata": {
        "id": "mMrxvgojr8RA",
        "colab_type": "code",
        "colab": {},
        "outputId": "ab2e4e65-fc18-4e9c-a0e2-16722742889e"
      },
      "source": [
        "Pa = filter(lambda x:x == \"BA\",imageY_Axis)\n",
        "len(list(Pa))"
      ],
      "execution_count": 0,
      "outputs": [
        {
          "output_type": "execute_result",
          "data": {
            "text/plain": [
              "198"
            ]
          },
          "metadata": {
            "tags": []
          },
          "execution_count": 9
        }
      ]
    },
    {
      "cell_type": "code",
      "metadata": {
        "id": "cpu7_hLar8RI",
        "colab_type": "code",
        "colab": {}
      },
      "source": [
        "imIndex=4\n",
        "testImg = imageX_Axis[imIndex]\n",
        "testImg_Label = imageY_Axis[imIndex]\n",
        "testImg = testImg.reshape(32,32)"
      ],
      "execution_count": 0,
      "outputs": []
    },
    {
      "cell_type": "code",
      "metadata": {
        "id": "EWepm0Bjr8RR",
        "colab_type": "code",
        "colab": {},
        "outputId": "7c4c3e0f-7a50-4df2-ae1b-49342c421ac0"
      },
      "source": [
        "plt.imshow(testImg,cmap=\"gray\")\n",
        "print(f\"True Label : {testImg_Label}\")"
      ],
      "execution_count": 0,
      "outputs": [
        {
          "output_type": "stream",
          "text": [
            "True Label : 0\n"
          ],
          "name": "stdout"
        },
        {
          "output_type": "display_data",
          "data": {
            "image/png": "[encoded data removed]",
            "text/plain": [
              "<Figure size 432x288 with 1 Axes>"
            ]
          },
          "metadata": {
            "tags": [],
            "needs_background": "light"
          }
        }
      ]
    },
    {
      "cell_type": "code",
      "metadata": {
        "id": "w7K2sz1er8RZ",
        "colab_type": "code",
        "colab": {}
      },
      "source": [
        "# Using numpy's savez function to store our loaded data as NPZ files\n",
        "np.savez('imageX_Axis.npz', imageX_Axis)\n",
        "np.savez('imageY_Axis.npz', imageY_Axis)\n",
        "\n",
        "\n",
        "def load_dataset(): # Loads the saved numpy object and returns them as tuple\n",
        "    \n",
        "    npzfile = np.load(\"imageX_Axis.npz\",allow_pickle=True)\n",
        "    x_axis = npzfile['arr_0'] # x - axis\n",
        "    \n",
        "    npzfile = np.load(\"imageY_Axis.npz\",allow_pickle=True)\n",
        "    y_axis = npzfile['arr_0'] # y - axis\n",
        "    \n",
        "    return (x_axis,y_axis)"
      ],
      "execution_count": 0,
      "outputs": []
    },
    {
      "cell_type": "code",
      "metadata": {
        "id": "cZuE0nQ5r8Rj",
        "colab_type": "code",
        "colab": {},
        "outputId": "ca2b18b5-7011-4560-f1bf-1e1f8ebebe3d"
      },
      "source": [
        "x_Axis,y_Axis= load_dataset()\n",
        "print(f\"X-axis Length : {len(x_Axis)}\")\n",
        "print(f\"Y-axis Length : {len(y_Axis)}\")"
      ],
      "execution_count": 0,
      "outputs": [
        {
          "output_type": "stream",
          "text": [
            "X-axis Length : 2431\n",
            "Y-axis Length : 2431\n"
          ],
          "name": "stdout"
        }
      ]
    },
    {
      "cell_type": "code",
      "metadata": {
        "id": "VYgyK0D-r8Rp",
        "colab_type": "code",
        "colab": {},
        "outputId": "61ccbdb2-1e9b-4bfc-c420-cacae1440bae"
      },
      "source": [
        "imIndex=4\n",
        "testImg = x_Axis[imIndex]\n",
        "testImg_Label = y_Axis[imIndex]\n",
        "testImg = testImg.reshape(32,32)\n",
        "plt.imshow(testImg,cmap=\"gray\")\n",
        "print(f\"True Label : {testImg_Label}\")"
      ],
      "execution_count": 0,
      "outputs": [
        {
          "output_type": "stream",
          "text": [
            "True Label : 0\n"
          ],
          "name": "stdout"
        },
        {
          "output_type": "display_data",
          "data": {
            "image/png": "[encoded data removed]",
            "text/plain": [
              "<Figure size 432x288 with 1 Axes>"
            ]
          },
          "metadata": {
            "tags": [],
            "needs_background": "light"
          }
        }
      ]
    }
  ]
}