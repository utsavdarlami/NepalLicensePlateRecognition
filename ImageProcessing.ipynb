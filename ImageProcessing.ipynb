{
 "cells": [
  {
   "cell_type": "code",
   "execution_count": 1,
   "metadata": {},
   "outputs": [],
   "source": [
    "%config IPCompleter.greedy=True\n",
    "import os\n",
    "import cv2\n",
    "import matplotlib.pyplot as plt\n",
    "# import keras\n",
    "dataset = \"Dataset/\""
   ]
  },
  {
   "cell_type": "code",
   "execution_count": 75,
   "metadata": {},
   "outputs": [],
   "source": [
    "from PIL import Image"
   ]
  },
  {
   "cell_type": "code",
   "execution_count": 40,
   "metadata": {},
   "outputs": [
    {
     "data": {
      "text/plain": [
       "['thresholdImages', 'license', 'Utsav_images']"
      ]
     },
     "execution_count": 40,
     "metadata": {},
     "output_type": "execute_result"
    }
   ],
   "source": [
    "os.listdir(dataset)"
   ]
  },
  {
   "cell_type": "code",
   "execution_count": 56,
   "metadata": {},
   "outputs": [],
   "source": [
    "# mainImageData = os.listdir(dataset)\n",
    "# mainImageData.sort()\n",
    "mainImageData  = dataset + 'Utsav_images/'"
   ]
  },
  {
   "cell_type": "code",
   "execution_count": 57,
   "metadata": {},
   "outputs": [
    {
     "data": {
      "text/plain": [
       "'63.jpg'"
      ]
     },
     "execution_count": 57,
     "metadata": {},
     "output_type": "execute_result"
    }
   ],
   "source": [
    "zero_image = os.listdir(mainImageData +\"/\"+'0')\n",
    "# zero_image.sort()\n",
    "zero_image[0]"
   ]
  },
  {
   "cell_type": "code",
   "execution_count": 51,
   "metadata": {},
   "outputs": [
    {
     "data": {
      "text/plain": [
       "'Dataset/Utsav_images/0/63.jpg'"
      ]
     },
     "execution_count": 51,
     "metadata": {},
     "output_type": "execute_result"
    }
   ],
   "source": [
    "imgPath = mainImageData +\"0/\" +zero_image[0]\n",
    "imgPath"
   ]
  },
  {
   "cell_type": "markdown",
   "metadata": {},
   "source": [
    "### Showing the Image present in our dataset"
   ]
  },
  {
   "cell_type": "code",
   "execution_count": 52,
   "metadata": {},
   "outputs": [
    {
     "data": {
      "text/plain": [
       "<matplotlib.image.AxesImage at 0x7f998650f350>"
      ]
     },
     "execution_count": 52,
     "metadata": {},
     "output_type": "execute_result"
    },
    {
     "data": {
      "image/png": "[encoded data removed]",
      "text/plain": [
       "<Figure size 432x288 with 1 Axes>"
      ]
     },
     "metadata": {
      "needs_background": "light"
     },
     "output_type": "display_data"
    }
   ],
   "source": [
    "imgZero = cv2.imread(imgPath)\n",
    "# cv2.imshow('zeroimage',imgZero)\n",
    "# cv2.waitKey(0)\n",
    "# cv2.destroyAllWindows()\n",
    "plt.imshow(imgZero)"
   ]
  },
  {
   "cell_type": "markdown",
   "metadata": {},
   "source": [
    "### Gray Scaling The Image"
   ]
  },
  {
   "cell_type": "code",
   "execution_count": 53,
   "metadata": {},
   "outputs": [
    {
     "data": {
      "text/plain": [
       "<matplotlib.image.AxesImage at 0x7f9990f443d0>"
      ]
     },
     "execution_count": 53,
     "metadata": {},
     "output_type": "execute_result"
    },
    {
     "data": {
      "image/png": "[encoded data removed]",
      "text/plain": [
       "<Figure size 432x288 with 1 Axes>"
      ]
     },
     "metadata": {
      "needs_background": "light"
     },
     "output_type": "display_data"
    }
   ],
   "source": [
    "grayImage = cv2.cvtColor(imgZero,cv2.COLOR_BGR2GRAY)\n",
    "# cv2.imshow('grayImage',grayImage)\n",
    "# cv2.waitKey(0)\n",
    "# cv2.destroyAllWindows()\n",
    "plt.imshow(grayImage, cmap='gray', vmin=0, vmax=255)"
   ]
  },
  {
   "cell_type": "markdown",
   "metadata": {},
   "source": [
    "## <a href='https://docs.opencv.org/3.4/d7/d4d/tutorial_py_thresholding.html'>About Thresholding </a>"
   ]
  },
  {
   "cell_type": "markdown",
   "metadata": {},
   "source": [
    "### Applying Otsu Thresholding"
   ]
  },
  {
   "cell_type": "code",
   "execution_count": 139,
   "metadata": {},
   "outputs": [
    {
     "data": {
      "text/plain": [
       "True"
      ]
     },
     "execution_count": 139,
     "metadata": {},
     "output_type": "execute_result"
    },
    {
     "data": {
      "image/png": "[encoded data removed]",
      "text/plain": [
       "<Figure size 432x288 with 1 Axes>"
      ]
     },
     "metadata": {
      "needs_background": "light"
     },
     "output_type": "display_data"
    }
   ],
   "source": [
    "_,thresholdImage = cv2.threshold(grayImage,220,255,cv2.THRESH_BINARY+ cv2.THRESH_OTSU)\n",
    "# cv2.imshow('thresholdImage',thresholdImage)\n",
    "plt.imshow(thresholdImage,cmap='gray', vmin=0, vmax=255)\n",
    "# cv2.waitKey(0)\n",
    "# cv2.destroyAllWindows()\n",
    "cv2.imwrite('thresholdOfZero.png',thresholdImage)\n",
    "# saveTo = 'Dataset/thresholdImages/teere'\n",
    "# link=os.path.join(saveTo+'.png')\n",
    "# print(link)\n",
    "# cv2.imwrite(link,thresholdImage)\n"
   ]
  },
  {
   "cell_type": "markdown",
   "metadata": {},
   "source": [
    "### Creating A function to obtain this thresholding and saving"
   ]
  },
  {
   "cell_type": "code",
   "execution_count": 133,
   "metadata": {},
   "outputs": [],
   "source": [
    "def toThreshold(imgPath,destinationPath):\n",
    "    initialImage = cv2.imread(imgPath)\n",
    "    grayImage = cv2.cvtColor(initialImage,cv2.COLOR_BGR2GRAY)\n",
    "    _,threshImage = cv2.threshold(grayImage,40,255,cv2.THRESH_BINARY + cv2.THRESH_OTSU)\n",
    "#     print(destinationPath)\n",
    "\n",
    "    newdestinationPath= os.path.join(destinationPath+'.png')\n",
    "#     print(newdestinationPath)\n",
    "    cv2.imwrite(newdestinationPath,threshImage)\n",
    "def create_A_Folder(folderPath):\n",
    "    # creating a folder where all threshold Images a stored\n",
    "    if not(os.path.exists(folderPath)):\n",
    "        os.mkdir(folderPath)\n"
   ]
  },
  {
   "cell_type": "code",
   "execution_count": 33,
   "metadata": {},
   "outputs": [],
   "source": [
    "# a\n",
    "label_Image_Folder = os.listdir(dataset+imagesData)"
   ]
  },
  {
   "cell_type": "code",
   "execution_count": 130,
   "metadata": {},
   "outputs": [
    {
     "name": "stdout",
     "output_type": "stream",
     "text": [
      "Dataset/thresholdImages/\n"
     ]
    }
   ],
   "source": [
    "# creating a folder where all threshold Images a stored\n",
    "# if not(os.path.exists(dataset+'thresholdImages')):\n",
    "#     os.mkdir(dataset+'thresholdImages')\n",
    "create_A_Folder(dataset+'thresholdImages')\n",
    "\n",
    "destinationPath = dataset+'thresholdImages/'\n",
    "\n",
    "print(destinationPath)\n"
   ]
  },
  {
   "cell_type": "code",
   "execution_count": 135,
   "metadata": {},
   "outputs": [
    {
     "name": "stdout",
     "output_type": "stream",
     "text": [
      "-----DONE---\n"
     ]
    }
   ],
   "source": [
    "\n",
    "for singleFolder in label_Image_Folder:\n",
    "    single_Folder_Path = mainImageData+ singleFolder\n",
    "#     print(singleFolderPath)\n",
    "    all_Image_In_Folder = os.listdir(single_Folder_Path)\n",
    "#     i=0\n",
    "    for index_at,singleImage in enumerate(all_Image_In_Folder):\n",
    "        # Path of the single Image\n",
    "        single_Image_Path = single_Folder_Path + '/'+singleImage\n",
    "        \n",
    "        # path of destination folder\n",
    "        single_destination_folder = destinationPath + singleFolder \n",
    "#         print(single_destination_folder)\n",
    "        create_A_Folder(single_destination_folder) # Creating A destionation Folder\n",
    "        #Creating the name of the image file to save\n",
    "        single_destination_Path = destinationPath + singleFolder + '/'+str(index_at)\n",
    "#         print(single_Image_Path)\n",
    "#         print(single_destination_Path)\n",
    "        toThreshold(single_Image_Path,single_destination_Path)\n",
    "#         i+=1\n",
    "#         if i==2:\n",
    "#             break\n",
    "        \n",
    "print(\"-----DONE---\")\n",
    "#     s"
   ]
  },
  {
   "cell_type": "code",
   "execution_count": null,
   "metadata": {},
   "outputs": [],
   "source": []
  }
 ],
 "metadata": {
  "kernelspec": {
   "display_name": "Python [conda env:.conda-matrix] *",
   "language": "python",
   "name": "conda-env-.conda-matrix-py"
  },
  "language_info": {
   "codemirror_mode": {
    "name": "ipython",
    "version": 3
   },
   "file_extension": ".py",
   "mimetype": "text/x-python",
   "name": "python",
   "nbconvert_exporter": "python",
   "pygments_lexer": "ipython3",
   "version": "3.7.5"
  }
 },
 "nbformat": 4,
 "nbformat_minor": 2
}
