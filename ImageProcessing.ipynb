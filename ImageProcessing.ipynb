{
 "cells": [
  {
   "cell_type": "code",
   "execution_count": 1,
   "metadata": {},
   "outputs": [],
   "source": [
    "%config IPCompleter.greedy=True\n",
    "import os\n",
    "import cv2\n",
    "import matplotlib.pyplot as plt\n",
    "import numpy as np\n",
    "# import keras\n",
    "dataset = \"Dataset/\""
   ]
  },
  {
   "cell_type": "code",
   "execution_count": 4,
   "metadata": {},
   "outputs": [
    {
     "data": {
      "text/plain": [
       "['gyanas_images',\n",
       " '_images',\n",
       " 'thresholdImages',\n",
       " 'license',\n",
       " 'Babin_Character',\n",
       " 'Babin_License_Plate']"
      ]
     },
     "execution_count": 4,
     "metadata": {},
     "output_type": "execute_result"
    }
   ],
   "source": [
    "os.listdir(dataset)"
   ]
  },
  {
   "cell_type": "code",
   "execution_count": 23,
   "metadata": {},
   "outputs": [],
   "source": [
    "# mainImageData = os.listdir(dataset)\n",
    "# mainImageData.sort()\n",
    "sampleImageDataPath  = dataset + '_images/'"
   ]
  },
  {
   "cell_type": "code",
   "execution_count": 24,
   "metadata": {},
   "outputs": [
    {
     "data": {
      "text/plain": [
       "'63.jpg'"
      ]
     },
     "execution_count": 24,
     "metadata": {},
     "output_type": "execute_result"
    }
   ],
   "source": [
    "zero_image = os.listdir(sampleImageDataPath +\"/\"+'0')\n",
    "# zero_image.sort()\n",
    "zero_image[0]"
   ]
  },
  {
   "cell_type": "code",
   "execution_count": 53,
   "metadata": {},
   "outputs": [
    {
     "data": {
      "text/plain": [
       "'Dataset/_images/1/1.jpg'"
      ]
     },
     "execution_count": 53,
     "metadata": {},
     "output_type": "execute_result"
    }
   ],
   "source": [
    "# imgPath = sampleImageDataPath +\"0/\" +zero_image[0]\n",
    "imgPath = sampleImageDataPath +\"1/\" +'1.jpg'\n",
    "\n",
    "imgPath"
   ]
  },
  {
   "cell_type": "markdown",
   "metadata": {},
   "source": [
    "### Showing the Image present in our dataset"
   ]
  },
  {
   "cell_type": "code",
   "execution_count": 54,
   "metadata": {},
   "outputs": [
    {
     "data": {
      "text/plain": [
       "<matplotlib.image.AxesImage at 0x7f288fb9be10>"
      ]
     },
     "execution_count": 54,
     "metadata": {},
     "output_type": "execute_result"
    },
    {
     "data": {
      "image/png": "[encoded data removed]",
      "text/plain": [
       "<Figure size 432x288 with 1 Axes>"
      ]
     },
     "metadata": {
      "needs_background": "light"
     },
     "output_type": "display_data"
    }
   ],
   "source": [
    "imgZero = cv2.imread(imgPath)\n",
    "# cv2.imshow('zeroimage',imgZero)\n",
    "# cv2.waitKey(0)\n",
    "# cv2.destroyAllWindows()\n",
    "plt.imshow(imgZero)"
   ]
  },
  {
   "cell_type": "markdown",
   "metadata": {},
   "source": [
    "### Gray Scaling The Image"
   ]
  },
  {
   "cell_type": "code",
   "execution_count": 55,
   "metadata": {},
   "outputs": [
    {
     "data": {
      "text/plain": [
       "<matplotlib.image.AxesImage at 0x7f288fb4f990>"
      ]
     },
     "execution_count": 55,
     "metadata": {},
     "output_type": "execute_result"
    },
    {
     "data": {
      "image/png": "[encoded data removed]",
      "text/plain": [
       "<Figure size 432x288 with 1 Axes>"
      ]
     },
     "metadata": {
      "needs_background": "light"
     },
     "output_type": "display_data"
    }
   ],
   "source": [
    "grayImage = cv2.cvtColor(imgZero,cv2.COLOR_BGR2GRAY)\n",
    "# cv2.imshow('grayImage',grayImage)\n",
    "# cv2.waitKey(0)\n",
    "# cv2.destroyAllWindows()\n",
    "plt.imshow(grayImage, cmap='gray', vmin=0, vmax=255)"
   ]
  },
  {
   "cell_type": "markdown",
   "metadata": {},
   "source": [
    "## <a href='https://docs.opencv.org/3.4/d7/d4d/tutorial_py_thresholding.html'>About Thresholding </a>"
   ]
  },
  {
   "cell_type": "markdown",
   "metadata": {},
   "source": [
    "### Applying Otsu Thresholding"
   ]
  },
  {
   "cell_type": "code",
   "execution_count": 67,
   "metadata": {},
   "outputs": [
    {
     "data": {
      "text/plain": [
       "True"
      ]
     },
     "execution_count": 67,
     "metadata": {},
     "output_type": "execute_result"
    },
    {
     "data": {
      "image/png": "[encoded data removed]",
      "text/plain": [
       "<Figure size 432x288 with 1 Axes>"
      ]
     },
     "metadata": {
      "needs_background": "light"
     },
     "output_type": "display_data"
    }
   ],
   "source": [
    "_,thresholdImage = cv2.threshold(grayImage,40,255,cv2.THRESH_BINARY+ cv2.THRESH_OTSU)\n",
    "# cv2.imshow('thresholdImage',thresholdImage)\n",
    "thresholdImage = np.array(thresholdImage)\n",
    "plt.imshow(thresholdImage,cmap='gray', vmin=0, vmax=255)\n",
    "# cv2.waitKey(0)\n",
    "# cv2.destroyAllWindows()\n",
    "cv2.imwrite('thresholdOfZero.png',thresholdImage)\n",
    "# saveTo = 'Dataset/thresholdImages/teere'\n",
    "# link=os.path.join(saveTo+'.png')\n",
    "# print(link)\n",
    "# cv2.imwrite(link,thresholdImage)\n"
   ]
  },
  {
   "cell_type": "code",
   "execution_count": 69,
   "metadata": {},
   "outputs": [
    {
     "data": {
      "text/plain": [
       "<matplotlib.image.AxesImage at 0x7f288ec9ed90>"
      ]
     },
     "execution_count": 69,
     "metadata": {},
     "output_type": "execute_result"
    },
    {
     "data": {
      "image/png": "[encoded data removed]",
      "text/plain": [
       "<Figure size 432x288 with 1 Axes>"
      ]
     },
     "metadata": {
      "needs_background": "light"
     },
     "output_type": "display_data"
    }
   ],
   "source": [
    "# thresholdImage=thresholdImage/255\n",
    "# plt.imshow(thresholdImage,cmap='gray')"
   ]
  },
  {
   "cell_type": "code",
   "execution_count": null,
   "metadata": {},
   "outputs": [],
   "source": []
  },
  {
   "cell_type": "code",
   "execution_count": null,
   "metadata": {},
   "outputs": [],
   "source": []
  },
  {
   "cell_type": "markdown",
   "metadata": {},
   "source": [
    "### Creating A function to obtain this thresholding and saving"
   ]
  },
  {
   "cell_type": "code",
   "execution_count": 60,
   "metadata": {},
   "outputs": [],
   "source": [
    "def toThreshold(imgPath,destinationPath):\n",
    "    try:\n",
    "        initialImage = cv2.imread(imgPath)\n",
    "        grayImage = cv2.cvtColor(initialImage,cv2.COLOR_BGR2GRAY)\n",
    "        _,threshImage = cv2.threshold(grayImage,40,255,cv2.THRESH_BINARY + cv2.THRESH_OTSU)\n",
    "#     print(destinationPath)\n",
    "\n",
    "        newdestinationPath= os.path.join(destinationPath+'.png')\n",
    "#     print(newdestinationPath)\n",
    "        cv2.imwrite(newdestinationPath,threshImage)\n",
    "    except Exception as e:\n",
    "        pass\n",
    "def create_A_Folder(folderPath):\n",
    "    # creating a folder where all threshold Images a stored\n",
    "    if not(os.path.exists(folderPath)):\n",
    "        os.mkdir(folderPath)\n"
   ]
  },
  {
   "cell_type": "code",
   "execution_count": 61,
   "metadata": {},
   "outputs": [
    {
     "name": "stdout",
     "output_type": "stream",
     "text": [
      "Dataset/thresholdImages/\n"
     ]
    }
   ],
   "source": [
    "# creating a folder where all threshold Images a stored\n",
    "\n",
    "create_A_Folder(dataset+'thresholdImages')\n",
    "\n",
    "destinationPath = dataset+'thresholdImages/'\n",
    "\n",
    "print(destinationPath)\n"
   ]
  },
  {
   "cell_type": "code",
   "execution_count": 62,
   "metadata": {},
   "outputs": [
    {
     "name": "stdout",
     "output_type": "stream",
     "text": [
      "-----DONE---\n"
     ]
    }
   ],
   "source": [
    "\n",
    "# a\n",
    "#Folder with character's\n",
    "\n",
    "allImagesDataset = ['gyanas_images','_images','Babin_Character']\n",
    "\n",
    "for indexFolder,mainImageData in enumerate(allImagesDataset):\n",
    "    \n",
    "    label_Image_Folder = os.listdir(dataset+mainImageData)\n",
    "    \n",
    "#     print(label_Image_Folder)\n",
    "#     \"\"\"\n",
    "    for singleFolder in label_Image_Folder:\n",
    "#         print(singleFolder)\n",
    "        single_Folder_Path = dataset + mainImageData + \"/\" + singleFolder\n",
    "#         print(single_Folder_Path)\n",
    "        all_Image_In_Folder = os.listdir(single_Folder_Path)\n",
    "#         i=0\n",
    "        for index_at,singleImage in enumerate(all_Image_In_Folder):\n",
    "            # Path of the single Image\n",
    "            single_Image_Path = single_Folder_Path + '/'+singleImage\n",
    "            # path of destination folder\n",
    "            single_destination_folder = destinationPath + singleFolder \n",
    "#             print(single_destination_folder)\n",
    "            create_A_Folder(single_destination_folder) # Creating A destionation Folder\n",
    "            #Creating the name of the image file to save\n",
    "            single_destination_Path = destinationPath + singleFolder + '/'+str(indexFolder)+\"_\"+str(index_at)\n",
    "#             print(single_Image_Path)\n",
    "#             print(single_destination_Path)\n",
    "            toThreshold(single_Image_Path,single_destination_Path)\n",
    "#             i+=1\n",
    "#             if i==2:\n",
    "#                 break\n",
    "    # \"\"\"\n",
    "\n",
    "print(\"-----DONE---\")\n"
   ]
  },
  {
   "cell_type": "code",
   "execution_count": null,
   "metadata": {},
   "outputs": [],
   "source": []
  },
  {
   "cell_type": "code",
   "execution_count": null,
   "metadata": {},
   "outputs": [],
   "source": []
  }
 ],
 "metadata": {
  "kernelspec": {
   "display_name": "Python [conda env:.conda-matrix] *",
   "language": "python",
   "name": "conda-env-.conda-matrix-py"
  },
  "language_info": {
   "codemirror_mode": {
    "name": "ipython",
    "version": 3
   },
   "file_extension": ".py",
   "mimetype": "text/x-python",
   "name": "python",
   "nbconvert_exporter": "python",
   "pygments_lexer": "ipython3",
   "version": "3.7.5"
  }
 },
 "nbformat": 4,
 "nbformat_minor": 2
}
